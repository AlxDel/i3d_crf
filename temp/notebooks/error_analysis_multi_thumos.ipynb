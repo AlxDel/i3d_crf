{
 "cells": [
  {
   "cell_type": "markdown",
   "metadata": {},
   "source": [
    "# Error analysis"
   ]
  },
  {
   "cell_type": "code",
   "execution_count": 1,
   "metadata": {},
   "outputs": [
    {
     "name": "stdout",
     "output_type": "stream",
     "text": [
      "Populating the interactive namespace from numpy and matplotlib\n"
     ]
    }
   ],
   "source": [
    "%pylab inline\n",
    "\n",
    "import numpy as np\n",
    "import matplotlib.pyplot as plt\n",
    "from collections import Counter\n",
    "import seaborn as sb\n",
    "import pandas as pd"
   ]
  },
  {
   "cell_type": "markdown",
   "metadata": {},
   "source": [
    "Name of considered video:"
   ]
  },
  {
   "cell_type": "code",
   "execution_count": 419,
   "metadata": {},
   "outputs": [],
   "source": [
    "video_name = \"video_test_0000006\""
   ]
  },
  {
   "cell_type": "markdown",
   "metadata": {},
   "source": [
    "Loading labels signification"
   ]
  },
  {
   "cell_type": "code",
   "execution_count": 420,
   "metadata": {},
   "outputs": [],
   "source": [
    "file = open(\"class_list.txt\",\"r\")\n",
    "labels_signification = []\n",
    "s = file.readline()[2:-1]\n",
    "while s != \"\":\n",
    "    labels_signification.append(s)\n",
    "    s = file.readline()[2:-1]"
   ]
  },
  {
   "cell_type": "markdown",
   "metadata": {},
   "source": [
    "## Stage 1"
   ]
  },
  {
   "cell_type": "code",
   "execution_count": 421,
   "metadata": {},
   "outputs": [],
   "source": [
    "video_ids_s1 = np.loadtxt(\"/home/alex/Desktop/experiments/thumos/semi-crf/\"+video_name+\"/no_crf/vid_eval_step_120000.csv\", delimiter=\",\")\n",
    "video_ids_s1 = video_ids_s1.astype(int)\n",
    "labels_s1 = np.loadtxt(\"/home/alex/Desktop/experiments/thumos/semi-crf/\"+video_name+\"/no_crf/labels_eval_step_120000.csv\", delimiter=\",\")"
   ]
  },
  {
   "cell_type": "code",
   "execution_count": 422,
   "metadata": {},
   "outputs": [
    {
     "name": "stdout",
     "output_type": "stream",
     "text": [
      "num_frames = 1983\n"
     ]
    }
   ],
   "source": [
    "num_frames = np.max(video_ids_s1[:,1])\n",
    "print(\"num_frames =\", num_frames)"
   ]
  },
  {
   "cell_type": "code",
   "execution_count": 423,
   "metadata": {},
   "outputs": [
    {
     "name": "stdout",
     "output_type": "stream",
     "text": [
      "6:37\n"
     ]
    }
   ],
   "source": [
    "mins=3\n",
    "sec=15\n",
    "target=4042\n",
    "fps = num_frames/(mins*60 + sec)\n",
    "print(\"{}:{}\".format(int((target/fps)//60),int(target/fps)%60))"
   ]
  },
  {
   "cell_type": "code",
   "execution_count": 424,
   "metadata": {},
   "outputs": [],
   "source": [
    "predictions_array_s1 = np.loadtxt(\"/home/alex/Desktop/experiments/thumos/semi-crf/\"+video_name+\"/no_crf/pred_eval_step_120000.csv\", delimiter=\",\")"
   ]
  },
  {
   "cell_type": "markdown",
   "metadata": {},
   "source": [
    "## Stage 2"
   ]
  },
  {
   "cell_type": "code",
   "execution_count": 425,
   "metadata": {},
   "outputs": [],
   "source": [
    "video_ids_s2 = np.loadtxt(\"/home/alex/Desktop/experiments/thumos/semi-crf/\"+video_name+\"/semi_crf/vid_eval_step_120000.csv\", delimiter=\",\")\n",
    "video_ids_s2 = video_ids_s2.astype(int)\n",
    "labels_s2 = np.loadtxt(\"/home/alex/Desktop/experiments/thumos/semi-crf/\"+video_name+\"/semi_crf/labels_eval_step_120000.csv\", delimiter=\",\")"
   ]
  },
  {
   "cell_type": "code",
   "execution_count": 426,
   "metadata": {},
   "outputs": [
    {
     "data": {
      "text/plain": [
       "True"
      ]
     },
     "execution_count": 426,
     "metadata": {},
     "output_type": "execute_result"
    }
   ],
   "source": [
    "np.max(video_ids_s2[:,1]) == num_frames"
   ]
  },
  {
   "cell_type": "code",
   "execution_count": 427,
   "metadata": {},
   "outputs": [],
   "source": [
    "predictions_array_s2 = np.loadtxt(\"/home/alex/Desktop/experiments/thumos/semi-crf/\"+video_name+\"/semi_crf/pred_eval_step_120000.csv\", delimiter=\",\")"
   ]
  },
  {
   "cell_type": "markdown",
   "metadata": {},
   "source": [
    "Mapping between 1st stage results and 2nd stage results:"
   ]
  },
  {
   "cell_type": "code",
   "execution_count": 428,
   "metadata": {},
   "outputs": [],
   "source": [
    "idxes = [np.where(video_ids_s2[:,1] == video_ids_s1[i,1])[0][0] for i in range(num_frames+1)]"
   ]
  },
  {
   "cell_type": "markdown",
   "metadata": {},
   "source": [
    "Reordering the 2nd stage results according to the 1st stage results'order:"
   ]
  },
  {
   "cell_type": "code",
   "execution_count": 429,
   "metadata": {},
   "outputs": [],
   "source": [
    "video_ids_s2 = video_ids_s2[idxes]\n",
    "predictions_array_s2 = predictions_array_s2[idxes]\n",
    "labels_s2 = labels_s2[idxes]"
   ]
  },
  {
   "cell_type": "markdown",
   "metadata": {},
   "source": [
    "## Comparing the different stages"
   ]
  },
  {
   "cell_type": "markdown",
   "metadata": {},
   "source": [
    "Check ordering:"
   ]
  },
  {
   "cell_type": "code",
   "execution_count": 430,
   "metadata": {},
   "outputs": [
    {
     "data": {
      "text/plain": [
       "True"
      ]
     },
     "execution_count": 430,
     "metadata": {},
     "output_type": "execute_result"
    }
   ],
   "source": [
    "np.sum(labels_s1 == labels_s2) == (num_frames+1)*65"
   ]
  },
  {
   "cell_type": "markdown",
   "metadata": {},
   "source": [
    "Random observation:"
   ]
  },
  {
   "cell_type": "code",
   "execution_count": 431,
   "metadata": {},
   "outputs": [
    {
     "name": "stdout",
     "output_type": "stream",
     "text": [
      "Ground truth:\n",
      "[31]\n",
      "Stage 1:\n",
      "[23 62 64 20 34]\n",
      "Stage 2:\n",
      "[23 62 42 20 25]\n",
      "\n",
      "Ground truth:\n",
      "[' FistPump']\n",
      "Stage 1:\n",
      "[' Stand', ' TalkToCamera', ' NoHuman', ' Walk', ' TwoRaisedArmCelebrate']\n",
      "Stage 2:\n",
      "[' Stand', ' TalkToCamera', ' BodyContract', ' Walk', ' Jump']\n"
     ]
    }
   ],
   "source": [
    "idx = 200\n",
    "top_k = 5\n",
    "\n",
    "\n",
    "print(\"Ground truth:\")\n",
    "print(np.where(labels_s1[idx]>0)[0])\n",
    "print(\"Stage 1:\")\n",
    "print(np.argsort(predictions_array_s1[idx])[::-1][:top_k])\n",
    "print(\"Stage 2:\")\n",
    "print(np.argsort(predictions_array_s2[idx])[::-1][:top_k])\n",
    "\n",
    "print(\"\\nGround truth:\")\n",
    "print([labels_signification[i] for i in np.where(labels_s1[idx]>0)[0]])\n",
    "print(\"Stage 1:\")\n",
    "print([labels_signification[i] for i in np.argsort(predictions_array_s1[idx])[::-1][:top_k]]) \n",
    "print(\"Stage 2:\")\n",
    "print([labels_signification[i] for i in np.argsort(predictions_array_s2[idx])[::-1][:top_k]]) "
   ]
  },
  {
   "cell_type": "markdown",
   "metadata": {},
   "source": [
    "Metrics:"
   ]
  },
  {
   "cell_type": "code",
   "execution_count": 432,
   "metadata": {},
   "outputs": [],
   "source": [
    "def ap(ground_truth, predictions, top_k=-1):\n",
    "    numpos = np.size(np.where(ground_truth > 0))\n",
    "    if numpos == 0:\n",
    "        return 0\n",
    "    delta_recall = 1.0 / numpos\n",
    "    sortidx = sorted(range(len(predictions)),\n",
    "                     key=lambda k: predictions[k],\n",
    "                     reverse=True)\n",
    "    n = len(sortidx)\n",
    "    if top_k>0:\n",
    "        n = top_k\n",
    "    poscount = 0\n",
    "    \n",
    "    \n",
    "    ap = 0\n",
    "    for i in range(n):\n",
    "        if ground_truth[sortidx[i]] > 0:\n",
    "            poscount += 1\n",
    "            ap += poscount / (i + 1) * delta_recall\n",
    "    return ap"
   ]
  },
  {
   "cell_type": "code",
   "execution_count": 433,
   "metadata": {},
   "outputs": [],
   "source": [
    "def gap(labels, predictions, top_k=-1):\n",
    "    \n",
    "    labels = labels.flatten()\n",
    "    predictions = predictions.flatten()\n",
    "    \n",
    "    return ap(labels, predictions, top_k)"
   ]
  },
  {
   "cell_type": "code",
   "execution_count": 434,
   "metadata": {},
   "outputs": [
    {
     "data": {
      "text/plain": [
       "0.6337597440166322"
      ]
     },
     "execution_count": 434,
     "metadata": {},
     "output_type": "execute_result"
    }
   ],
   "source": [
    "gap(labels_s1, predictions_array_s1)"
   ]
  },
  {
   "cell_type": "code",
   "execution_count": 435,
   "metadata": {},
   "outputs": [
    {
     "data": {
      "text/plain": [
       "0.5578975814625837"
      ]
     },
     "execution_count": 435,
     "metadata": {},
     "output_type": "execute_result"
    }
   ],
   "source": [
    "gap(labels_s2, predictions_array_s2)"
   ]
  },
  {
   "cell_type": "code",
   "execution_count": 436,
   "metadata": {},
   "outputs": [],
   "source": [
    "def map_calc(labels, predictions):\n",
    "    aps = [ap(labels[:,q],predictions[:,q]) for q in range(labels.shape[1])]\n",
    "    return np.mean(aps)"
   ]
  },
  {
   "cell_type": "code",
   "execution_count": 437,
   "metadata": {},
   "outputs": [
    {
     "data": {
      "text/plain": [
       "0.09731589989666314"
      ]
     },
     "execution_count": 437,
     "metadata": {},
     "output_type": "execute_result"
    }
   ],
   "source": [
    "map_calc(labels_s1, predictions_array_s1)"
   ]
  },
  {
   "cell_type": "code",
   "execution_count": 438,
   "metadata": {},
   "outputs": [
    {
     "data": {
      "text/plain": [
       "0.09443873207199915"
      ]
     },
     "execution_count": 438,
     "metadata": {},
     "output_type": "execute_result"
    }
   ],
   "source": [
    "map_calc(labels_s2, predictions_array_s2)"
   ]
  },
  {
   "cell_type": "markdown",
   "metadata": {},
   "source": [
    "Individual performances for both stages:"
   ]
  },
  {
   "cell_type": "code",
   "execution_count": 439,
   "metadata": {},
   "outputs": [],
   "source": [
    "perf_gap_1 = [gap(labels_s1[i], predictions_array_s1[i]) for i in range(len(labels_s1))]\n",
    "perf_gap_2 = [gap(labels_s2[i], predictions_array_s2[i]) for i in range(len(labels_s2))]"
   ]
  },
  {
   "cell_type": "markdown",
   "metadata": {},
   "source": [
    "Effect of the CRF on individual performances:"
   ]
  },
  {
   "cell_type": "code",
   "execution_count": 440,
   "metadata": {},
   "outputs": [],
   "source": [
    "diff_gap_2_1 = [perf_gap_2[i] - perf_gap_1[i] for i in range(num_frames)]"
   ]
  },
  {
   "cell_type": "code",
   "execution_count": 441,
   "metadata": {},
   "outputs": [
    {
     "data": {
      "text/plain": [
       "-0.07422107920299612"
      ]
     },
     "execution_count": 441,
     "metadata": {},
     "output_type": "execute_result"
    }
   ],
   "source": [
    "mean(diff_gap_2_1)"
   ]
  },
  {
   "cell_type": "code",
   "execution_count": 442,
   "metadata": {},
   "outputs": [
    {
     "data": {
      "image/png": "[encoded data removed]",
      "text/plain": [
       "<matplotlib.figure.Figure at 0x7f0eae7edcc0>"
      ]
     },
     "metadata": {},
     "output_type": "display_data"
    }
   ],
   "source": [
    "plt.figure(figsize=(20,6))\n",
    "n, bins, patches = plt.hist(diff_gap_2_1, 100, normed=1, facecolor='green')"
   ]
  },
  {
   "cell_type": "code",
   "execution_count": 443,
   "metadata": {},
   "outputs": [],
   "source": [
    "idxes_sorted = np.argsort(diff_gap_2_1)"
   ]
  },
  {
   "cell_type": "code",
   "execution_count": 448,
   "metadata": {},
   "outputs": [
    {
     "name": "stdout",
     "output_type": "stream",
     "text": [
      "Video name:\n",
      "video_test_0000006\n",
      "\n",
      "Frame id:\n",
      "1678\n",
      "\n",
      "GAP difference:\n",
      "0.1791666666666667\n",
      "\n",
      "Ground truth:\n",
      "[19 23 25 51]\n",
      "Stage 1:\n",
      "[23 24 25 19 21]\n",
      "Stage 2:\n",
      "[25 19 23 24 51]\n",
      "\n",
      "Ground truth(s):\n",
      "-  VolleyballSpiking\n",
      "-  Stand\n",
      "-  Jump\n",
      "-  VolleyballBlock\n",
      "\n",
      "No CRF:\n",
      "1. Stand - 0.78\n",
      "2. Run - 0.72\n",
      "3. Jump - 0.62\n",
      "4. VolleyballSpiking - 0.55\n",
      "5. Sit - 0.3\n",
      "\n",
      "With CRF:\n",
      "1. Jump - 0.85\n",
      "2. VolleyballSpiking - 0.65\n",
      "3. Stand - 0.61\n",
      "4. Run - 0.34\n",
      "5. VolleyballBlock - 0.16\n"
     ]
    }
   ],
   "source": [
    "idx = idxes_sorted[num_frames-19]\n",
    "top_k = 5\n",
    "\n",
    "print(\"Video name:\")\n",
    "print(video_name)\n",
    "\n",
    "print(\"\\nFrame id:\")\n",
    "frame_id = video_ids_s1[idx][1]+1\n",
    "print(frame_id)\n",
    "\n",
    "\n",
    "print(\"\\nGAP difference:\")\n",
    "print(diff_gap_2_1[idx])\n",
    "\n",
    "print(\"\\nGround truth:\")\n",
    "print(np.where(labels_s1[idx]>0)[0])\n",
    "print(\"Stage 1:\")\n",
    "print(np.argsort(predictions_array_s1[idx])[::-1][:top_k])\n",
    "print(\"Stage 2:\")\n",
    "print(np.argsort(predictions_array_s2[idx])[::-1][:top_k])\n",
    "\n",
    "print(\"\\nGround truth(s):\")\n",
    "for i in np.where(labels_s1[idx]>0)[0]:\n",
    "    print(\"- \" + labels_signification[i])\n",
    "print(\"\\nNo CRF:\")\n",
    "c = 0\n",
    "for i in np.argsort(predictions_array_s1[idx])[::-1][:top_k]:\n",
    "    print(str(c+1) + \".\" + labels_signification[i] + \" - \" + str(np.round(np.sort(predictions_array_s1[idx])[::-1][c],2)))\n",
    "    c += 1\n",
    "\n",
    "print(\"\\nWith CRF:\")\n",
    "c = 0\n",
    "for i in np.argsort(predictions_array_s2[idx])[::-1][:top_k]:\n",
    "    print(str(c+1) + \".\" + labels_signification[i] + \" - \" + str(np.round(np.sort(predictions_array_s2[idx])[::-1][c],2)))\n",
    "    c += 1"
   ]
  },
  {
   "cell_type": "code",
   "execution_count": 446,
   "metadata": {},
   "outputs": [
    {
     "name": "stdout",
     "output_type": "stream",
     "text": [
      "\n",
      "fr= 1\n",
      "Ground truth(s):\n",
      "-  Stand\n",
      "-  HighFive\n",
      "\n",
      "fr= 2\n",
      "Ground truth(s):\n",
      "-  Stand\n",
      "-  HighFive\n",
      "\n",
      "fr= 3\n",
      "Ground truth(s):\n",
      "-  Stand\n",
      "-  HighFive\n",
      "\n",
      "fr= 4\n",
      "Ground truth(s):\n",
      "-  Stand\n",
      "-  HighFive\n",
      "\n",
      "fr= 5\n",
      "Ground truth(s):\n",
      "-  Stand\n",
      "-  HighFive\n",
      "\n",
      "fr= 6\n",
      "Ground truth(s):\n",
      "-  Stand\n",
      "-  HighFive\n",
      "\n",
      "fr= 7\n",
      "Ground truth(s):\n",
      "-  Stand\n",
      "-  HighFive\n",
      "\n",
      "fr= 8\n",
      "Ground truth(s):\n",
      "-  Stand\n",
      "-  HighFive\n",
      "\n",
      "fr= 9\n",
      "Ground truth(s):\n",
      "-  Stand\n",
      "-  HighFive\n",
      "\n",
      "fr= 10\n",
      "Ground truth(s):\n",
      "-  Stand\n",
      "-  HighFive\n",
      "\n",
      "fr= 11\n",
      "Ground truth(s):\n",
      "-  Stand\n",
      "-  HighFive\n",
      "\n",
      "fr= 12\n",
      "Ground truth(s):\n",
      "-  VolleyballSpiking\n",
      "-  Stand\n",
      "-  Jump\n",
      "\n",
      "fr= 13\n",
      "Ground truth(s):\n",
      "-  VolleyballSpiking\n",
      "-  Stand\n",
      "-  Jump\n",
      "\n",
      "fr= 14\n",
      "Ground truth(s):\n",
      "-  VolleyballSpiking\n",
      "-  Stand\n",
      "-  Jump\n",
      "\n",
      "fr= 15\n",
      "Ground truth(s):\n",
      "-  VolleyballSpiking\n",
      "-  Stand\n",
      "-  Jump\n",
      "\n",
      "fr= 16\n",
      "Ground truth(s):\n",
      "-  VolleyballSpiking\n",
      "-  Stand\n",
      "-  Jump\n",
      "\n",
      "fr= 17\n",
      "Ground truth(s):\n",
      "-  VolleyballSpiking\n",
      "-  Stand\n",
      "-  Jump\n",
      "\n",
      "fr= 18\n",
      "Ground truth(s):\n",
      "-  VolleyballSpiking\n",
      "-  Stand\n",
      "-  Jump\n",
      "\n",
      "fr= 19\n",
      "Ground truth(s):\n",
      "-  VolleyballSpiking\n",
      "-  Stand\n",
      "-  Jump\n",
      "-  VolleyballBlock\n",
      "\n",
      "fr= 20\n",
      "Ground truth(s):\n",
      "-  VolleyballSpiking\n",
      "-  Stand\n",
      "-  Jump\n",
      "\n",
      "fr= 21\n",
      "Ground truth(s):\n",
      "-  VolleyballSpiking\n",
      "-  Stand\n",
      "-  Jump\n",
      "-  VolleyballBlock\n",
      "\n",
      "fr= 22\n",
      "Ground truth(s):\n",
      "-  VolleyballSpiking\n",
      "-  Stand\n",
      "-  Run\n",
      "-  Jump\n",
      "-  VolleyballSet\n",
      "-  VolleyballBlock\n",
      "\n",
      "fr= 23\n",
      "Ground truth(s):\n",
      "-  VolleyballSpiking\n",
      "-  Stand\n",
      "-  Run\n",
      "-  Jump\n",
      "-  VolleyballSet\n",
      "-  VolleyballBlock\n",
      "\n",
      "fr= 24\n",
      "Ground truth(s):\n",
      "-  VolleyballSpiking\n",
      "-  Stand\n",
      "-  Jump\n",
      "-  VolleyballBlock\n",
      "\n",
      "fr= 25\n",
      "Ground truth(s):\n",
      "-  VolleyballSpiking\n",
      "-  Stand\n",
      "-  Run\n",
      "-  Jump\n",
      "-  VolleyballSet\n",
      "-  VolleyballBlock\n",
      "\n",
      "fr= 26\n",
      "Ground truth(s):\n",
      "-  VolleyballSpiking\n",
      "-  Stand\n",
      "-  Run\n",
      "-  Jump\n",
      "-  VolleyballSet\n",
      "-  VolleyballBlock\n",
      "\n",
      "fr= 27\n",
      "Ground truth(s):\n",
      "-  VolleyballSpiking\n",
      "-  Stand\n",
      "-  Run\n",
      "-  Jump\n",
      "-  VolleyballSet\n",
      "-  VolleyballBlock\n",
      "\n",
      "fr= 28\n",
      "Ground truth(s):\n",
      "-  Walk\n",
      "-  Stand\n",
      "-  Run\n",
      "-  Jump\n",
      "\n",
      "fr= 29\n",
      "Ground truth(s):\n",
      "-  Walk\n",
      "-  Stand\n",
      "-  Run\n",
      "-  Jump\n",
      "\n",
      "fr= 30\n",
      "Ground truth(s):\n",
      "-  Walk\n",
      "-  Stand\n",
      "-  Run\n",
      "-  Jump\n",
      "\n",
      "fr= 31\n",
      "Ground truth(s):\n",
      "-  VolleyballSpiking\n",
      "-  Stand\n",
      "-  Run\n",
      "-  Jump\n",
      "-  VolleyballSet\n",
      "-  VolleyballBlock\n",
      "\n",
      "fr= 32\n",
      "Ground truth(s):\n",
      "-  VolleyballSpiking\n",
      "-  Stand\n",
      "-  Run\n",
      "-  Jump\n",
      "-  VolleyballSet\n",
      "-  VolleyballBlock\n",
      "\n",
      "fr= 33\n",
      "Ground truth(s):\n",
      "-  VolleyballSpiking\n",
      "-  Stand\n",
      "-  Run\n",
      "-  Jump\n",
      "-  VolleyballSet\n",
      "-  VolleyballBlock\n",
      "\n",
      "fr= 34\n",
      "Ground truth(s):\n",
      "-  VolleyballSpiking\n",
      "-  Stand\n",
      "-  Run\n",
      "-  Jump\n",
      "-  VolleyballSet\n",
      "-  VolleyballBlock\n",
      "\n",
      "fr= 35\n",
      "Ground truth(s):\n",
      "-  VolleyballSpiking\n",
      "-  Stand\n",
      "-  Run\n",
      "-  Jump\n",
      "-  VolleyballSet\n",
      "-  VolleyballBlock\n",
      "\n",
      "fr= 36\n",
      "Ground truth(s):\n",
      "-  VolleyballSpiking\n",
      "-  Stand\n",
      "-  Run\n",
      "-  Jump\n",
      "-  VolleyballSet\n",
      "-  VolleyballBlock\n",
      "\n",
      "fr= 37\n",
      "Ground truth(s):\n",
      "-  VolleyballSpiking\n",
      "-  Stand\n",
      "-  Run\n",
      "-  Jump\n",
      "-  VolleyballSet\n",
      "-  VolleyballBlock\n",
      "\n",
      "fr= 38\n",
      "Ground truth(s):\n",
      "-  VolleyballSpiking\n",
      "-  Stand\n",
      "-  Run\n",
      "-  Jump\n",
      "-  VolleyballSet\n",
      "-  VolleyballBlock\n",
      "\n",
      "fr= 39\n",
      "Ground truth(s):\n",
      "-  VolleyballSpiking\n",
      "-  Stand\n",
      "-  Run\n",
      "-  Jump\n",
      "-  VolleyballSet\n",
      "-  VolleyballBlock\n",
      "\n",
      "fr= 40\n",
      "Ground truth(s):\n",
      "-  VolleyballSpiking\n",
      "-  Stand\n",
      "-  Run\n",
      "-  Jump\n",
      "-  VolleyballSet\n",
      "-  VolleyballBlock\n",
      "\n",
      "fr= 41\n",
      "Ground truth(s):\n",
      "-  VolleyballSpiking\n",
      "-  Stand\n",
      "-  Run\n",
      "-  Jump\n",
      "-  VolleyballSet\n",
      "-  VolleyballBlock\n",
      "\n",
      "fr= 42\n",
      "Ground truth(s):\n",
      "-  VolleyballSpiking\n",
      "-  Stand\n",
      "-  Run\n",
      "-  Jump\n",
      "-  VolleyballSet\n",
      "-  VolleyballBlock\n",
      "\n",
      "fr= 43\n",
      "Ground truth(s):\n",
      "-  VolleyballSpiking\n",
      "-  Stand\n",
      "-  Run\n",
      "-  Jump\n",
      "-  VolleyballSet\n",
      "-  VolleyballBlock\n",
      "\n",
      "fr= 44\n",
      "Ground truth(s):\n",
      "-  VolleyballSpiking\n",
      "-  Stand\n",
      "-  Run\n",
      "-  Jump\n",
      "-  VolleyballSet\n",
      "-  VolleyballBlock\n",
      "\n",
      "fr= 45\n",
      "Ground truth(s):\n",
      "-  VolleyballSpiking\n",
      "-  Stand\n",
      "-  Run\n",
      "-  Jump\n",
      "-  VolleyballSet\n",
      "-  VolleyballBlock\n",
      "\n",
      "fr= 46\n",
      "Ground truth(s):\n",
      "-  VolleyballSpiking\n",
      "-  Stand\n",
      "-  Run\n",
      "-  Jump\n",
      "-  VolleyballSet\n",
      "-  VolleyballBlock\n",
      "\n",
      "fr= 47\n",
      "Ground truth(s):\n",
      "-  Walk\n",
      "-  Stand\n",
      "\n",
      "fr= 48\n",
      "Ground truth(s):\n",
      "-  Walk\n",
      "-  Stand\n",
      "\n",
      "fr= 49\n",
      "Ground truth(s):\n",
      "-  Walk\n",
      "-  Stand\n",
      "\n",
      "fr= 50\n",
      "Ground truth(s):\n",
      "-  Walk\n",
      "-  Stand\n"
     ]
    }
   ],
   "source": [
    "for fr in range(1,51):\n",
    "    print(\"\\nfr=\", fr)\n",
    "    idx = idxes_sorted[num_frames-fr]\n",
    "\n",
    "    print(\"Ground truth(s):\")\n",
    "    for i in np.where(labels_s1[idx]>0)[0]:\n",
    "        print(\"- \" + labels_signification[i])\n"
   ]
  },
  {
   "cell_type": "code",
   "execution_count": null,
   "metadata": {},
   "outputs": [],
   "source": []
  }
 ],
 "metadata": {
  "kernelspec": {
   "display_name": "Python 3",
   "language": "python",
   "name": "python3"
  },
  "language_info": {
   "codemirror_mode": {
    "name": "ipython",
    "version": 3
   },
   "file_extension": ".py",
   "mimetype": "text/x-python",
   "name": "python",
   "nbconvert_exporter": "python",
   "pygments_lexer": "ipython3",
   "version": "3.6.4"
  }
 },
 "nbformat": 4,
 "nbformat_minor": 2
}
