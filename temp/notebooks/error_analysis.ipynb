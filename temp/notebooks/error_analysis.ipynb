{
 "cells": [
  {
   "cell_type": "markdown",
   "metadata": {},
   "source": [
    "# Error analysis"
   ]
  },
  {
   "cell_type": "code",
   "execution_count": 1,
   "metadata": {},
   "outputs": [
    {
     "name": "stdout",
     "output_type": "stream",
     "text": [
      "Populating the interactive namespace from numpy and matplotlib\n"
     ]
    }
   ],
   "source": [
    "%pylab inline\n",
    "\n",
    "import numpy as np\n",
    "import matplotlib.pyplot as plt\n",
    "from collections import Counter\n",
    "import seaborn as sb\n",
    "import pandas as pd"
   ]
  },
  {
   "cell_type": "markdown",
   "metadata": {},
   "source": [
    "Loading labels signification"
   ]
  },
  {
   "cell_type": "code",
   "execution_count": 2,
   "metadata": {},
   "outputs": [],
   "source": [
    "file = open(\"class_list.txt\",\"r\")\n",
    "labels_signification = []\n",
    "s = file.readline()[2:-1]\n",
    "while s != \"\":\n",
    "    labels_signification.append(s)\n",
    "    s = file.readline()[2:-1]"
   ]
  },
  {
   "cell_type": "markdown",
   "metadata": {},
   "source": [
    "## Stage 1"
   ]
  },
  {
   "cell_type": "code",
   "execution_count": 3,
   "metadata": {},
   "outputs": [],
   "source": [
    "video_ids_s1 = np.load(\"experiments/thumos/moe/stage1/video_id_165001.npy\")\n",
    "predictions_array_s1 = np.load(\"experiments/thumos/moe/stage1/predictions_array_165001.npy\")\n",
    "labels_array_s1 = np.load(\"experiments/thumos/moe/stage1/labels_array_165001.npy\")"
   ]
  },
  {
   "cell_type": "code",
   "execution_count": 4,
   "metadata": {},
   "outputs": [],
   "source": [
    "n = len(video_ids_s1)"
   ]
  },
  {
   "cell_type": "markdown",
   "metadata": {},
   "source": [
    "## Stage 2"
   ]
  },
  {
   "cell_type": "code",
   "execution_count": 5,
   "metadata": {},
   "outputs": [],
   "source": [
    "video_ids_s2_0 = np.load(\"experiments/thumos/moe/stage2/video_id_20001.npy\")\n",
    "predictions_array_s2_0 = np.load(\"experiments/thumos/moe/stage2/predictions_array_20001.npy\")\n",
    "labels_array_s2_0 = np.load(\"experiments/thumos/moe/stage2/labels_array_20001.npy\")"
   ]
  },
  {
   "cell_type": "markdown",
   "metadata": {},
   "source": [
    "Mapping between 1st stage results and 2nd stage results:"
   ]
  },
  {
   "cell_type": "code",
   "execution_count": 6,
   "metadata": {},
   "outputs": [],
   "source": [
    "idxes = [np.where(video_ids_s2_0 == video_ids_s1[i])[0][0] for i in range(n)]"
   ]
  },
  {
   "cell_type": "markdown",
   "metadata": {},
   "source": [
    "Reordering the 2nd stage results according to the 1st stage results'order:"
   ]
  },
  {
   "cell_type": "code",
   "execution_count": 7,
   "metadata": {},
   "outputs": [],
   "source": [
    "video_ids_s2 = video_ids_s2_0[idxes]\n",
    "predictions_array_s2 = predictions_array_s2_0[idxes]\n",
    "labels_array_s2 = labels_array_s2_0[idxes]"
   ]
  },
  {
   "cell_type": "markdown",
   "metadata": {},
   "source": [
    "## Comparing the different stages"
   ]
  },
  {
   "cell_type": "markdown",
   "metadata": {},
   "source": [
    "Check ordering:"
   ]
  },
  {
   "cell_type": "code",
   "execution_count": 8,
   "metadata": {},
   "outputs": [
    {
     "data": {
      "text/plain": [
       "array([[ True,  True,  True, ...,  True,  True,  True],\n",
       "       [ True,  True,  True, ...,  True,  True,  True],\n",
       "       [ True,  True,  True, ...,  True,  True,  True],\n",
       "       ...,\n",
       "       [ True,  True,  True, ...,  True,  True,  True],\n",
       "       [ True,  True,  True, ...,  True,  True,  True],\n",
       "       [ True,  True,  True, ...,  True,  True,  True]])"
      ]
     },
     "execution_count": 8,
     "metadata": {},
     "output_type": "execute_result"
    }
   ],
   "source": [
    "labels_array_s1 == labels_array_s2"
   ]
  },
  {
   "cell_type": "markdown",
   "metadata": {},
   "source": [
    "Random observation:"
   ]
  },
  {
   "cell_type": "code",
   "execution_count": 9,
   "metadata": {},
   "outputs": [
    {
     "name": "stdout",
     "output_type": "stream",
     "text": [
      "Ground truth:\n",
      "[ 1 25]\n",
      "Stage 1:\n",
      "[25  1 21 20 24]\n",
      "Stage 2:\n",
      "[ 1 25 21 20 23]\n",
      "\n",
      "Ground truth:\n",
      "['BasketballDunk', ' Jump']\n",
      "Stage 1:\n",
      "[' Jump', 'BasketballDunk', ' Sit', ' Walk', ' Run']\n",
      "Stage 2:\n",
      "['BasketballDunk', ' Jump', ' Sit', ' Walk', ' Stand']\n"
     ]
    }
   ],
   "source": [
    "idx = 1789\n",
    "top_k = 5\n",
    "\n",
    "\n",
    "print(\"Ground truth:\")\n",
    "print(np.where(labels_array_s1[idx]>0)[0])\n",
    "print(\"Stage 1:\")\n",
    "print(np.argsort(predictions_array_s1[idx])[::-1][:top_k])\n",
    "print(\"Stage 2:\")\n",
    "print(np.argsort(predictions_array_s2[idx])[::-1][:top_k])\n",
    "\n",
    "print(\"\\nGround truth:\")\n",
    "print([labels_signification[i] for i in np.where(labels_array_s1[idx]>0)[0]])\n",
    "print(\"Stage 1:\")\n",
    "print([labels_signification[i] for i in np.argsort(predictions_array_s1[idx])[::-1][:top_k]]) \n",
    "print(\"Stage 2:\")\n",
    "print([labels_signification[i] for i in np.argsort(predictions_array_s2[idx])[::-1][:top_k]]) "
   ]
  },
  {
   "cell_type": "markdown",
   "metadata": {},
   "source": [
    "Metrics:"
   ]
  },
  {
   "cell_type": "code",
   "execution_count": 10,
   "metadata": {},
   "outputs": [],
   "source": [
    "def ap(ground_truth, predictions, top_k=-1):\n",
    "    numpos = np.size(np.where(ground_truth > 0))\n",
    "    delta_recall = 1.0 / numpos\n",
    "    sortidx = sorted(range(len(predictions)),\n",
    "                     key=lambda k: predictions[k],\n",
    "                     reverse=True)\n",
    "    n = len(sortidx)\n",
    "    if top_k>0:\n",
    "        n = top_k\n",
    "    poscount = 0\n",
    "    \n",
    "    \n",
    "    ap = 0\n",
    "    for i in range(n):\n",
    "        if ground_truth[sortidx[i]] > 0:\n",
    "            poscount += 1\n",
    "            ap += poscount / (i + 1) * delta_recall\n",
    "    return ap"
   ]
  },
  {
   "cell_type": "code",
   "execution_count": 11,
   "metadata": {},
   "outputs": [],
   "source": [
    "def gap(labels, predictions, top_k=-1):\n",
    "    \n",
    "    labels = labels.flatten()\n",
    "    predictions = predictions.flatten()\n",
    "    \n",
    "    return ap(labels, predictions, top_k)"
   ]
  },
  {
   "cell_type": "code",
   "execution_count": 12,
   "metadata": {},
   "outputs": [
    {
     "data": {
      "text/plain": [
       "0.52747059722117"
      ]
     },
     "execution_count": 12,
     "metadata": {},
     "output_type": "execute_result"
    }
   ],
   "source": [
    "gap(labels_array_s1, predictions_array_s1)"
   ]
  },
  {
   "cell_type": "code",
   "execution_count": 13,
   "metadata": {},
   "outputs": [
    {
     "data": {
      "text/plain": [
       "0.547650032016107"
      ]
     },
     "execution_count": 13,
     "metadata": {},
     "output_type": "execute_result"
    }
   ],
   "source": [
    "gap(labels_array_s1, predictions_array_s2)"
   ]
  },
  {
   "cell_type": "code",
   "execution_count": 14,
   "metadata": {},
   "outputs": [],
   "source": [
    "def map_calc(labels, predictions):\n",
    "    aps = [ap(labels[:,q],predictions[:,q]) for q in range(labels.shape[1])]\n",
    "    return np.mean(aps)"
   ]
  },
  {
   "cell_type": "code",
   "execution_count": 15,
   "metadata": {},
   "outputs": [
    {
     "data": {
      "text/plain": [
       "0.2953468673548357"
      ]
     },
     "execution_count": 15,
     "metadata": {},
     "output_type": "execute_result"
    }
   ],
   "source": [
    "map_calc(labels_array_s1, predictions_array_s1)"
   ]
  },
  {
   "cell_type": "code",
   "execution_count": 16,
   "metadata": {},
   "outputs": [
    {
     "data": {
      "text/plain": [
       "0.3119421212839163"
      ]
     },
     "execution_count": 16,
     "metadata": {},
     "output_type": "execute_result"
    }
   ],
   "source": [
    "map_calc(labels_array_s1, predictions_array_s2)"
   ]
  },
  {
   "cell_type": "markdown",
   "metadata": {},
   "source": [
    "Individual performances for both stages:"
   ]
  },
  {
   "cell_type": "code",
   "execution_count": 17,
   "metadata": {},
   "outputs": [],
   "source": [
    "perf_gap_1 = [gap(labels_array_s1[i], predictions_array_s1[i]) for i in range(len(labels_array_s1))]\n",
    "perf_gap_2 = [gap(labels_array_s1[i], predictions_array_s2[i]) for i in range(len(labels_array_s1))]"
   ]
  },
  {
   "cell_type": "markdown",
   "metadata": {},
   "source": [
    "Effect of the CRF on individual performances:"
   ]
  },
  {
   "cell_type": "code",
   "execution_count": 18,
   "metadata": {},
   "outputs": [],
   "source": [
    "diff_gap_2_1 = [perf_gap_2[i] - perf_gap_1[i] for i in range(n)]"
   ]
  },
  {
   "cell_type": "code",
   "execution_count": 19,
   "metadata": {},
   "outputs": [
    {
     "data": {
      "text/plain": [
       "0.009161682128451734"
      ]
     },
     "execution_count": 19,
     "metadata": {},
     "output_type": "execute_result"
    }
   ],
   "source": [
    "mean(diff_gap_2_1)"
   ]
  },
  {
   "cell_type": "code",
   "execution_count": 20,
   "metadata": {},
   "outputs": [
    {
     "data": {
      "image/png": "[encoded data removed]",
      "text/plain": [
       "<matplotlib.figure.Figure at 0x7f341083cd68>"
      ]
     },
     "metadata": {},
     "output_type": "display_data"
    }
   ],
   "source": [
    "plt.figure(figsize=(20,6))\n",
    "n, bins, patches = plt.hist(diff_gap_2_1, 100, normed=1, facecolor='green')"
   ]
  },
  {
   "cell_type": "code",
   "execution_count": 21,
   "metadata": {},
   "outputs": [],
   "source": [
    "idxes_worst = np.argsort(diff_gap_2_1)"
   ]
  },
  {
   "cell_type": "code",
   "execution_count": 22,
   "metadata": {},
   "outputs": [
    {
     "name": "stdout",
     "output_type": "stream",
     "text": [
      "23227\n",
      "[42 43]\n",
      "42410\n",
      "[ 1 25]\n",
      "42467\n",
      "[ 1 25]\n",
      "23217\n",
      "[42 43]\n",
      "23218\n",
      "[42 43]\n",
      "24291\n",
      "[12 24]\n",
      "38741\n",
      "[42 43]\n",
      "38813\n",
      "[42 43]\n",
      "38918\n",
      "[42 43]\n",
      "38919\n",
      "[42 43]\n",
      "38920\n",
      "[42 43]\n",
      "38921\n",
      "[42 43]\n",
      "38924\n",
      "[42 43]\n",
      "38935\n",
      "[42 43]\n",
      "38939\n",
      "[42 43]\n",
      "42961\n",
      "[ 1 25]\n",
      "38943\n",
      "[42 43]\n",
      "3240\n",
      "[20 21]\n",
      "27033\n",
      "[42 43]\n",
      "38904\n",
      "[42 43]\n",
      "38903\n",
      "[42 43]\n",
      "38899\n",
      "[42 43]\n",
      "17696\n",
      "[ 1 25]\n",
      "27036\n",
      "[42 43]\n",
      "38658\n",
      "[42 43]\n",
      "49315\n",
      "[13 21]\n",
      "26840\n",
      "[42 43]\n",
      "36225\n",
      "[42 43]\n",
      "36226\n",
      "[42 43]\n",
      "36166\n",
      "[42 43]\n",
      "38832\n",
      "[42 43]\n",
      "36103\n",
      "[42 43]\n",
      "29254\n",
      "[42 43]\n",
      "26821\n",
      "[42 43]\n",
      "36104\n",
      "[42 43]\n",
      "28895\n",
      "[12 21]\n",
      "22358\n",
      "[42 43]\n",
      "8780\n",
      "[62 63]\n",
      "2013\n",
      "[42 43]\n",
      "2014\n",
      "[42 43]\n",
      "27034\n",
      "[42 43]\n",
      "27035\n",
      "[42 43]\n",
      "26875\n",
      "[42 43]\n",
      "27102\n",
      "[42 43]\n",
      "27101\n",
      "[42 43]\n",
      "45279\n",
      "[42 43]\n",
      "12450\n",
      "[32 34]\n",
      "38900\n",
      "[42 43]\n",
      "12453\n",
      "[32 34]\n",
      "45278\n",
      "[42 43]\n",
      "45154\n",
      "[42 43]\n",
      "12047\n",
      "[42 43]\n",
      "12048\n",
      "[42 43]\n",
      "42507\n",
      "[ 1 25]\n",
      "29253\n",
      "[42 43]\n",
      "42947\n",
      "[ 1 25]\n",
      "50740\n",
      "[20 21]\n",
      "17540\n",
      "[20 21]\n",
      "41351\n",
      "[42 43]\n",
      "26834\n",
      "[42 43]\n",
      "26823\n",
      "[42 43]\n"
     ]
    }
   ],
   "source": [
    "for idx in idxes_worst[-500:-1]:\n",
    "    lab = np.where(labels_array_s1[idx]>0)[0]\n",
    "    if len(lab)>1:\n",
    "        print(idx)\n",
    "        print(lab)"
   ]
  },
  {
   "cell_type": "code",
   "execution_count": 271,
   "metadata": {},
   "outputs": [
    {
     "data": {
      "text/plain": [
       "452.7083333333333"
      ]
     },
     "execution_count": 271,
     "metadata": {},
     "output_type": "execute_result"
    }
   ],
   "source": [
    "10865/24"
   ]
  },
  {
   "cell_type": "code",
   "execution_count": 392,
   "metadata": {},
   "outputs": [
    {
     "name": "stdout",
     "output_type": "stream",
     "text": [
      "Video id:\n",
      "video_test_0001201.mp4-[6321, 6336]\n",
      "From 3 : 30 to 3 : 31\n",
      "\n",
      "Ground truth:\n",
      "[14]\n",
      "Stage 1:\n",
      "[14 11 25 23 20]\n",
      "Stage 2:\n",
      "[11 14 25 20 26]\n",
      "\n",
      "Ground truth:\n",
      "[' PoleVault']\n",
      "Stage 1:\n",
      "[' PoleVault', ' HighJump', ' Jump', ' Stand', ' Walk']\n",
      "[0.35 0.32 0.31 0.21 0.19]\n",
      "Stage 2:\n",
      "[' HighJump', ' PoleVault', ' Jump', ' Walk', ' Fall']\n",
      "[0.34 0.34 0.26 0.18 0.17]\n"
     ]
    }
   ],
   "source": [
    "idx = idxes_worst[243]\n",
    "top_k = 5\n",
    "\n",
    "print(\"Video id:\")\n",
    "vid_id = video_ids_s1[idx]\n",
    "print(vid_id)\n",
    "start = float(vid_id[24:-1].split(\",\")[0])/30\n",
    "end = float(vid_id[24:-1].split(\",\")[1])/30\n",
    "\n",
    "print(\"From\",\n",
    "      int(start//60),\n",
    "      \":\",\n",
    "      int(start%60),\n",
    "      \"to\",\n",
    "      int(end//60),\n",
    "      \":\",\n",
    "      int(end%60))\n",
    "\n",
    "print(\"\\nGround truth:\")\n",
    "print(np.where(labels_array_s1[idx]>0)[0])\n",
    "print(\"Stage 1:\")\n",
    "print(np.argsort(predictions_array_s1[idx])[::-1][:top_k])\n",
    "print(\"Stage 2:\")\n",
    "print(np.argsort(predictions_array_s2[idx])[::-1][:top_k])\n",
    "\n",
    "print(\"\\nGround truth:\")\n",
    "print([labels_signification[i] for i in np.where(labels_array_s1[idx]>0)[0]])\n",
    "print(\"Stage 1:\")\n",
    "print([labels_signification[i] for i in np.argsort(predictions_array_s1[idx])[::-1][:top_k]])\n",
    "print(np.round(np.sort(predictions_array_s1[idx])[::-1][:top_k],2))\n",
    "print(\"Stage 2:\")\n",
    "print([labels_signification[i] for i in np.argsort(predictions_array_s2[idx])[::-1][:top_k]])\n",
    "print(np.round(np.sort(predictions_array_s2[idx])[::-1][:top_k],2))"
   ]
  },
  {
   "cell_type": "code",
   "execution_count": 282,
   "metadata": {},
   "outputs": [
    {
     "data": {
      "text/plain": [
       "32.56666666666667"
      ]
     },
     "execution_count": 282,
     "metadata": {},
     "output_type": "execute_result"
    }
   ],
   "source": [
    "977/30"
   ]
  },
  {
   "cell_type": "code",
   "execution_count": 283,
   "metadata": {},
   "outputs": [
    {
     "data": {
      "text/plain": [
       "33.06666666666667"
      ]
     },
     "execution_count": 283,
     "metadata": {},
     "output_type": "execute_result"
    }
   ],
   "source": [
    "992/30"
   ]
  },
  {
   "cell_type": "code",
   "execution_count": 278,
   "metadata": {},
   "outputs": [
    {
     "name": "stdout",
     "output_type": "stream",
     "text": [
      "3\n",
      "6507.0\n",
      "9\n",
      "2169.0\n",
      "27\n",
      "723.0\n"
     ]
    }
   ],
   "source": [
    "for i in range(2,35):\n",
    "    if 19521/i==round(19521/i):\n",
    "        print(i)\n",
    "        print(19521/i)\n",
    "        print()"
   ]
  },
  {
   "cell_type": "code",
   "execution_count": 247,
   "metadata": {},
   "outputs": [
    {
     "data": {
      "text/plain": [
       "1434.7333333333333"
      ]
     },
     "execution_count": 247,
     "metadata": {},
     "output_type": "execute_result"
    }
   ],
   "source": [
    "21521/(21536-21521)"
   ]
  },
  {
   "cell_type": "code",
   "execution_count": 248,
   "metadata": {},
   "outputs": [
    {
     "data": {
      "text/plain": [
       "7"
      ]
     },
     "execution_count": 248,
     "metadata": {},
     "output_type": "execute_result"
    }
   ],
   "source": [
    "457//60"
   ]
  },
  {
   "cell_type": "code",
   "execution_count": 249,
   "metadata": {},
   "outputs": [
    {
     "data": {
      "text/plain": [
       "37"
      ]
     },
     "execution_count": 249,
     "metadata": {},
     "output_type": "execute_result"
    }
   ],
   "source": [
    "457%60"
   ]
  },
  {
   "cell_type": "code",
   "execution_count": 254,
   "metadata": {},
   "outputs": [],
   "source": [
    "labels_list_s1 = []\n",
    "for i in range(len(labels_array_s1)):\n",
    "    for j in np.where(labels_array_s1[i]>0)[0]:\n",
    "        labels_list_s1.append(labels_signification[j])"
   ]
  },
  {
   "cell_type": "markdown",
   "metadata": {},
   "source": [
    "### Worst 10% examples where the CRF hurts the 1st stage predictions:"
   ]
  },
  {
   "cell_type": "code",
   "execution_count": 25,
   "metadata": {},
   "outputs": [],
   "source": [
    "idxes_worst_10 = idxes_worst[:int(0.1*len(idxes_worst))]"
   ]
  },
  {
   "cell_type": "code",
   "execution_count": 26,
   "metadata": {},
   "outputs": [],
   "source": [
    "labels_list_s1_worst_10 = []\n",
    "for i in idxes_worst_10:\n",
    "    for j in np.where(labels_array_s1[i]>0)[0]:\n",
    "        labels_list_s1_worst_10.append(labels_signification[j])\n",
    "        \n",
    "labels_array_s1_worst_10 = [labels_array_s1[i] for i in idxes_worst_10]\n",
    "predictions_array_s1_worst_10 = [predictions_array_s1[i] for i in idxes_worst_10]\n",
    "predictions_array_s2_worst_10 = [predictions_array_s2[i] for i in idxes_worst_10]"
   ]
  },
  {
   "cell_type": "markdown",
   "metadata": {},
   "source": [
    "Count of the ground-truth labels of the instances that are mostly hurt by the CRF:"
   ]
  },
  {
   "cell_type": "code",
   "execution_count": 27,
   "metadata": {},
   "outputs": [
    {
     "data": {
      "text/plain": [
       "<matplotlib.axes._subplots.AxesSubplot at 0x7fe3296c0048>"
      ]
     },
     "execution_count": 27,
     "metadata": {},
     "output_type": "execute_result"
    },
    {
     "data": {
      "image/png": "[encoded data removed]",
      "text/plain": [
       "<matplotlib.figure.Figure at 0x7fe329572128>"
      ]
     },
     "metadata": {},
     "output_type": "display_data"
    }
   ],
   "source": [
    "plt.figure(figsize=(15,12))\n",
    "\n",
    "cnt_worst = Counter(labels_list_s1_worst_10)\n",
    "order_labels = [cnt_worst.most_common()[i][0] for i in range(len(cnt_worst.most_common()))]\n",
    "sb.countplot(y=labels_list_s1_worst_10, order=order_labels)"
   ]
  },
  {
   "cell_type": "markdown",
   "metadata": {},
   "source": [
    "Distribution of labels on all examples:"
   ]
  },
  {
   "cell_type": "code",
   "execution_count": 28,
   "metadata": {},
   "outputs": [
    {
     "data": {
      "text/plain": [
       "<matplotlib.axes._subplots.AxesSubplot at 0x7fe32946b320>"
      ]
     },
     "execution_count": 28,
     "metadata": {},
     "output_type": "execute_result"
    },
    {
     "data": {
      "image/png": "[encoded data removed]",
      "text/plain": [
       "<matplotlib.figure.Figure at 0x7fe32943d748>"
      ]
     },
     "metadata": {},
     "output_type": "display_data"
    }
   ],
   "source": [
    "plt.figure(figsize=(15,12))\n",
    "\n",
    "cnt = Counter(labels_list_s1)\n",
    "order_labels = [cnt.most_common()[i][0] for i in range(len(cnt.most_common()))]\n",
    "sb.countplot(y=labels_list_s1, order=order_labels)"
   ]
  },
  {
   "cell_type": "markdown",
   "metadata": {},
   "source": [
    "Data-frame for counting original labels:"
   ]
  },
  {
   "cell_type": "code",
   "execution_count": 29,
   "metadata": {},
   "outputs": [],
   "source": [
    "df = pd.DataFrame(data={\"count_original\":list(dict(cnt).values())},\n",
    "                  index=list(dict(cnt).keys()))\n",
    "\n",
    "df[\"count_original_prop\"] = df[\"count_original\"] / sum(df[\"count_original\"])"
   ]
  },
  {
   "cell_type": "markdown",
   "metadata": {},
   "source": [
    "Data-frame for counting badly CRF-impacted labels:"
   ]
  },
  {
   "cell_type": "code",
   "execution_count": 30,
   "metadata": {},
   "outputs": [],
   "source": [
    "df_worst = pd.DataFrame(data={\"count_worst\":list(dict(cnt_worst).values())},\n",
    "                  index=list(dict(cnt_worst).keys()))\n",
    "\n",
    "df_worst[\"count_worst_prop\"] = df_worst[\"count_worst\"] / sum(df_worst[\"count_worst\"])"
   ]
  },
  {
   "cell_type": "markdown",
   "metadata": {},
   "source": [
    "Merge the 2 data-frames:"
   ]
  },
  {
   "cell_type": "code",
   "execution_count": 31,
   "metadata": {},
   "outputs": [],
   "source": [
    "df_comp = pd.merge(df, df_worst, left_index=True, right_index=True)"
   ]
  },
  {
   "cell_type": "code",
   "execution_count": 32,
   "metadata": {},
   "outputs": [],
   "source": [
    "df_comp[\"prop_worst/prop_original\"] = df_comp[\"count_worst_prop\"]/df_comp[\"count_original_prop\"]\n",
    "df_comp = df_comp.sort_values(\"prop_worst/prop_original\", ascending=False)"
   ]
  },
  {
   "cell_type": "markdown",
   "metadata": {},
   "source": [
    "Changes in the labels population induced by CRF on worst cases:"
   ]
  },
  {
   "cell_type": "code",
   "execution_count": 33,
   "metadata": {
    "scrolled": false
   },
   "outputs": [
    {
     "data": {
      "text/plain": [
       "<matplotlib.axes._subplots.AxesSubplot at 0x7fe3296c0da0>"
      ]
     },
     "execution_count": 33,
     "metadata": {},
     "output_type": "execute_result"
    },
    {
     "data": {
      "image/png": "[encoded data removed]",
      "text/plain": [
       "<matplotlib.figure.Figure at 0x7fe3296c0cc0>"
      ]
     },
     "metadata": {},
     "output_type": "display_data"
    }
   ],
   "source": [
    "plt.figure(figsize=(15,12))\n",
    "\n",
    "sb.barplot(y=df_comp.index.tolist(),\n",
    "           x=\"prop_worst/prop_original\",\n",
    "           data=df_comp)"
   ]
  },
  {
   "cell_type": "code",
   "execution_count": 34,
   "metadata": {},
   "outputs": [
    {
     "data": {
      "text/html": [
       "<div>\n",
       "<style scoped>\n",
       "    .dataframe tbody tr th:only-of-type {\n",
       "        vertical-align: middle;\n",
       "    }\n",
       "\n",
       "    .dataframe tbody tr th {\n",
       "        vertical-align: top;\n",
       "    }\n",
       "\n",
       "    .dataframe thead th {\n",
       "        text-align: right;\n",
       "    }\n",
       "</style>\n",
       "<table border=\"1\" class=\"dataframe\">\n",
       "  <thead>\n",
       "    <tr style=\"text-align: right;\">\n",
       "      <th></th>\n",
       "      <th>count_original</th>\n",
       "      <th>count_original_prop</th>\n",
       "      <th>count_worst</th>\n",
       "      <th>count_worst_prop</th>\n",
       "      <th>prop_worst/prop_original</th>\n",
       "    </tr>\n",
       "  </thead>\n",
       "  <tbody>\n",
       "    <tr>\n",
       "      <th>SoccerPenalty</th>\n",
       "      <td>224</td>\n",
       "      <td>0.002317</td>\n",
       "      <td>68</td>\n",
       "      <td>0.006845</td>\n",
       "      <td>2.954886</td>\n",
       "    </tr>\n",
       "    <tr>\n",
       "      <th>TennisSwing</th>\n",
       "      <td>333</td>\n",
       "      <td>0.003444</td>\n",
       "      <td>83</td>\n",
       "      <td>0.008355</td>\n",
       "      <td>2.426128</td>\n",
       "    </tr>\n",
       "    <tr>\n",
       "      <th>Stand</th>\n",
       "      <td>12771</td>\n",
       "      <td>0.132075</td>\n",
       "      <td>2271</td>\n",
       "      <td>0.228609</td>\n",
       "      <td>1.730900</td>\n",
       "    </tr>\n",
       "    <tr>\n",
       "      <th>BasketballBlock</th>\n",
       "      <td>65</td>\n",
       "      <td>0.000672</td>\n",
       "      <td>11</td>\n",
       "      <td>0.001107</td>\n",
       "      <td>1.647249</td>\n",
       "    </tr>\n",
       "    <tr>\n",
       "      <th>HighJump</th>\n",
       "      <td>1203</td>\n",
       "      <td>0.012441</td>\n",
       "      <td>195</td>\n",
       "      <td>0.019630</td>\n",
       "      <td>1.577789</td>\n",
       "    </tr>\n",
       "    <tr>\n",
       "      <th>HammerThrow</th>\n",
       "      <td>2739</td>\n",
       "      <td>0.028326</td>\n",
       "      <td>377</td>\n",
       "      <td>0.037950</td>\n",
       "      <td>1.339767</td>\n",
       "    </tr>\n",
       "    <tr>\n",
       "      <th>TalkToCamera</th>\n",
       "      <td>5975</td>\n",
       "      <td>0.061792</td>\n",
       "      <td>798</td>\n",
       "      <td>0.080330</td>\n",
       "      <td>1.300004</td>\n",
       "    </tr>\n",
       "    <tr>\n",
       "      <th>BasketballDunk</th>\n",
       "      <td>943</td>\n",
       "      <td>0.009752</td>\n",
       "      <td>124</td>\n",
       "      <td>0.012482</td>\n",
       "      <td>1.279941</td>\n",
       "    </tr>\n",
       "    <tr>\n",
       "      <th>HammerThrowWindUp</th>\n",
       "      <td>710</td>\n",
       "      <td>0.007343</td>\n",
       "      <td>91</td>\n",
       "      <td>0.009160</td>\n",
       "      <td>1.247564</td>\n",
       "    </tr>\n",
       "    <tr>\n",
       "      <th>Jump</th>\n",
       "      <td>4916</td>\n",
       "      <td>0.050840</td>\n",
       "      <td>602</td>\n",
       "      <td>0.060600</td>\n",
       "      <td>1.191968</td>\n",
       "    </tr>\n",
       "    <tr>\n",
       "      <th>Run</th>\n",
       "      <td>9231</td>\n",
       "      <td>0.095465</td>\n",
       "      <td>1105</td>\n",
       "      <td>0.111234</td>\n",
       "      <td>1.165181</td>\n",
       "    </tr>\n",
       "    <tr>\n",
       "      <th>HammerThrowSpin</th>\n",
       "      <td>1145</td>\n",
       "      <td>0.011841</td>\n",
       "      <td>128</td>\n",
       "      <td>0.012885</td>\n",
       "      <td>1.088139</td>\n",
       "    </tr>\n",
       "    <tr>\n",
       "      <th>HammerThrowRelease</th>\n",
       "      <td>333</td>\n",
       "      <td>0.003444</td>\n",
       "      <td>37</td>\n",
       "      <td>0.003725</td>\n",
       "      <td>1.081527</td>\n",
       "    </tr>\n",
       "    <tr>\n",
       "      <th>Walk</th>\n",
       "      <td>11381</td>\n",
       "      <td>0.117700</td>\n",
       "      <td>1133</td>\n",
       "      <td>0.114053</td>\n",
       "      <td>0.969012</td>\n",
       "    </tr>\n",
       "    <tr>\n",
       "      <th>BasketballGuard</th>\n",
       "      <td>558</td>\n",
       "      <td>0.005771</td>\n",
       "      <td>55</td>\n",
       "      <td>0.005537</td>\n",
       "      <td>0.959419</td>\n",
       "    </tr>\n",
       "    <tr>\n",
       "      <th>PoleVault</th>\n",
       "      <td>4696</td>\n",
       "      <td>0.048565</td>\n",
       "      <td>459</td>\n",
       "      <td>0.046205</td>\n",
       "      <td>0.951403</td>\n",
       "    </tr>\n",
       "    <tr>\n",
       "      <th>Sit</th>\n",
       "      <td>7531</td>\n",
       "      <td>0.077884</td>\n",
       "      <td>729</td>\n",
       "      <td>0.073384</td>\n",
       "      <td>0.942225</td>\n",
       "    </tr>\n",
       "    <tr>\n",
       "      <th>Shotput</th>\n",
       "      <td>1005</td>\n",
       "      <td>0.010394</td>\n",
       "      <td>94</td>\n",
       "      <td>0.009462</td>\n",
       "      <td>0.910420</td>\n",
       "    </tr>\n",
       "    <tr>\n",
       "      <th>BaseballPitch</th>\n",
       "      <td>150</td>\n",
       "      <td>0.001551</td>\n",
       "      <td>14</td>\n",
       "      <td>0.001409</td>\n",
       "      <td>0.908483</td>\n",
       "    </tr>\n",
       "    <tr>\n",
       "      <th>BodyBend</th>\n",
       "      <td>424</td>\n",
       "      <td>0.004385</td>\n",
       "      <td>38</td>\n",
       "      <td>0.003825</td>\n",
       "      <td>0.872364</td>\n",
       "    </tr>\n",
       "    <tr>\n",
       "      <th>DiscusRelease</th>\n",
       "      <td>134</td>\n",
       "      <td>0.001386</td>\n",
       "      <td>12</td>\n",
       "      <td>0.001208</td>\n",
       "      <td>0.871678</td>\n",
       "    </tr>\n",
       "    <tr>\n",
       "      <th>ThrowDiscus</th>\n",
       "      <td>670</td>\n",
       "      <td>0.006929</td>\n",
       "      <td>60</td>\n",
       "      <td>0.006040</td>\n",
       "      <td>0.871678</td>\n",
       "    </tr>\n",
       "    <tr>\n",
       "      <th>CricketShot</th>\n",
       "      <td>267</td>\n",
       "      <td>0.002761</td>\n",
       "      <td>23</td>\n",
       "      <td>0.002315</td>\n",
       "      <td>0.838487</td>\n",
       "    </tr>\n",
       "    <tr>\n",
       "      <th>DiscusWindUp</th>\n",
       "      <td>119</td>\n",
       "      <td>0.001231</td>\n",
       "      <td>10</td>\n",
       "      <td>0.001007</td>\n",
       "      <td>0.817962</td>\n",
       "    </tr>\n",
       "    <tr>\n",
       "      <th>BodyTurn</th>\n",
       "      <td>232</td>\n",
       "      <td>0.002399</td>\n",
       "      <td>19</td>\n",
       "      <td>0.001913</td>\n",
       "      <td>0.797160</td>\n",
       "    </tr>\n",
       "    <tr>\n",
       "      <th>Diving</th>\n",
       "      <td>1387</td>\n",
       "      <td>0.014344</td>\n",
       "      <td>113</td>\n",
       "      <td>0.011375</td>\n",
       "      <td>0.793016</td>\n",
       "    </tr>\n",
       "    <tr>\n",
       "      <th>CloseUpTalkToCamera</th>\n",
       "      <td>3709</td>\n",
       "      <td>0.038358</td>\n",
       "      <td>265</td>\n",
       "      <td>0.026676</td>\n",
       "      <td>0.695455</td>\n",
       "    </tr>\n",
       "    <tr>\n",
       "      <th>Throw</th>\n",
       "      <td>1230</td>\n",
       "      <td>0.012720</td>\n",
       "      <td>87</td>\n",
       "      <td>0.008758</td>\n",
       "      <td>0.688484</td>\n",
       "    </tr>\n",
       "    <tr>\n",
       "      <th>VolleyballSet</th>\n",
       "      <td>160</td>\n",
       "      <td>0.001655</td>\n",
       "      <td>11</td>\n",
       "      <td>0.001107</td>\n",
       "      <td>0.669195</td>\n",
       "    </tr>\n",
       "    <tr>\n",
       "      <th>BasketballDribble</th>\n",
       "      <td>277</td>\n",
       "      <td>0.002865</td>\n",
       "      <td>19</td>\n",
       "      <td>0.001913</td>\n",
       "      <td>0.667657</td>\n",
       "    </tr>\n",
       "    <tr>\n",
       "      <th>ClapHands</th>\n",
       "      <td>1076</td>\n",
       "      <td>0.011128</td>\n",
       "      <td>72</td>\n",
       "      <td>0.007248</td>\n",
       "      <td>0.651329</td>\n",
       "    </tr>\n",
       "    <tr>\n",
       "      <th>HighFive</th>\n",
       "      <td>30</td>\n",
       "      <td>0.000310</td>\n",
       "      <td>2</td>\n",
       "      <td>0.000201</td>\n",
       "      <td>0.648916</td>\n",
       "    </tr>\n",
       "    <tr>\n",
       "      <th>BodyRoll</th>\n",
       "      <td>856</td>\n",
       "      <td>0.008853</td>\n",
       "      <td>57</td>\n",
       "      <td>0.005738</td>\n",
       "      <td>0.648158</td>\n",
       "    </tr>\n",
       "    <tr>\n",
       "      <th>StandUp</th>\n",
       "      <td>613</td>\n",
       "      <td>0.006340</td>\n",
       "      <td>40</td>\n",
       "      <td>0.004027</td>\n",
       "      <td>0.635154</td>\n",
       "    </tr>\n",
       "    <tr>\n",
       "      <th>BasketballShot</th>\n",
       "      <td>77</td>\n",
       "      <td>0.000796</td>\n",
       "      <td>5</td>\n",
       "      <td>0.000503</td>\n",
       "      <td>0.632061</td>\n",
       "    </tr>\n",
       "    <tr>\n",
       "      <th>PoleVaultPlantPole</th>\n",
       "      <td>115</td>\n",
       "      <td>0.001189</td>\n",
       "      <td>7</td>\n",
       "      <td>0.000705</td>\n",
       "      <td>0.592489</td>\n",
       "    </tr>\n",
       "    <tr>\n",
       "      <th>WeightliftingClean</th>\n",
       "      <td>476</td>\n",
       "      <td>0.004923</td>\n",
       "      <td>28</td>\n",
       "      <td>0.002819</td>\n",
       "      <td>0.572573</td>\n",
       "    </tr>\n",
       "    <tr>\n",
       "      <th>CleanAndJerk</th>\n",
       "      <td>1669</td>\n",
       "      <td>0.017260</td>\n",
       "      <td>96</td>\n",
       "      <td>0.009664</td>\n",
       "      <td>0.559880</td>\n",
       "    </tr>\n",
       "    <tr>\n",
       "      <th>TwoHandedCatch</th>\n",
       "      <td>71</td>\n",
       "      <td>0.000734</td>\n",
       "      <td>4</td>\n",
       "      <td>0.000403</td>\n",
       "      <td>0.548380</td>\n",
       "    </tr>\n",
       "    <tr>\n",
       "      <th>VolleyballSpiking</th>\n",
       "      <td>524</td>\n",
       "      <td>0.005419</td>\n",
       "      <td>29</td>\n",
       "      <td>0.002919</td>\n",
       "      <td>0.538700</td>\n",
       "    </tr>\n",
       "    <tr>\n",
       "      <th>CricketBowling</th>\n",
       "      <td>328</td>\n",
       "      <td>0.003392</td>\n",
       "      <td>18</td>\n",
       "      <td>0.001812</td>\n",
       "      <td>0.534169</td>\n",
       "    </tr>\n",
       "    <tr>\n",
       "      <th>CliffDiving</th>\n",
       "      <td>763</td>\n",
       "      <td>0.007891</td>\n",
       "      <td>34</td>\n",
       "      <td>0.003423</td>\n",
       "      <td>0.433745</td>\n",
       "    </tr>\n",
       "    <tr>\n",
       "      <th>LongJump</th>\n",
       "      <td>1763</td>\n",
       "      <td>0.018233</td>\n",
       "      <td>78</td>\n",
       "      <td>0.007852</td>\n",
       "      <td>0.430648</td>\n",
       "    </tr>\n",
       "    <tr>\n",
       "      <th>FrisbeeCatch</th>\n",
       "      <td>252</td>\n",
       "      <td>0.002606</td>\n",
       "      <td>11</td>\n",
       "      <td>0.001107</td>\n",
       "      <td>0.424886</td>\n",
       "    </tr>\n",
       "    <tr>\n",
       "      <th>ShotPutBend</th>\n",
       "      <td>207</td>\n",
       "      <td>0.002141</td>\n",
       "      <td>9</td>\n",
       "      <td>0.000906</td>\n",
       "      <td>0.423206</td>\n",
       "    </tr>\n",
       "    <tr>\n",
       "      <th>PickUp</th>\n",
       "      <td>765</td>\n",
       "      <td>0.007911</td>\n",
       "      <td>33</td>\n",
       "      <td>0.003322</td>\n",
       "      <td>0.419887</td>\n",
       "    </tr>\n",
       "    <tr>\n",
       "      <th>TwoRaisedArmCelebrate</th>\n",
       "      <td>444</td>\n",
       "      <td>0.004592</td>\n",
       "      <td>17</td>\n",
       "      <td>0.001711</td>\n",
       "      <td>0.372688</td>\n",
       "    </tr>\n",
       "    <tr>\n",
       "      <th>OneHandedCatch</th>\n",
       "      <td>82</td>\n",
       "      <td>0.000848</td>\n",
       "      <td>3</td>\n",
       "      <td>0.000302</td>\n",
       "      <td>0.356113</td>\n",
       "    </tr>\n",
       "    <tr>\n",
       "      <th>JavelinThrow</th>\n",
       "      <td>1787</td>\n",
       "      <td>0.018481</td>\n",
       "      <td>64</td>\n",
       "      <td>0.006443</td>\n",
       "      <td>0.348606</td>\n",
       "    </tr>\n",
       "    <tr>\n",
       "      <th>NoHuman</th>\n",
       "      <td>3654</td>\n",
       "      <td>0.037789</td>\n",
       "      <td>126</td>\n",
       "      <td>0.012684</td>\n",
       "      <td>0.335646</td>\n",
       "    </tr>\n",
       "    <tr>\n",
       "      <th>Billiards</th>\n",
       "      <td>309</td>\n",
       "      <td>0.003196</td>\n",
       "      <td>10</td>\n",
       "      <td>0.001007</td>\n",
       "      <td>0.315008</td>\n",
       "    </tr>\n",
       "    <tr>\n",
       "      <th>BodyContract</th>\n",
       "      <td>2264</td>\n",
       "      <td>0.023414</td>\n",
       "      <td>73</td>\n",
       "      <td>0.007349</td>\n",
       "      <td>0.313853</td>\n",
       "    </tr>\n",
       "    <tr>\n",
       "      <th>Squat</th>\n",
       "      <td>1830</td>\n",
       "      <td>0.018925</td>\n",
       "      <td>49</td>\n",
       "      <td>0.004933</td>\n",
       "      <td>0.260630</td>\n",
       "    </tr>\n",
       "    <tr>\n",
       "      <th>Fall</th>\n",
       "      <td>977</td>\n",
       "      <td>0.010104</td>\n",
       "      <td>25</td>\n",
       "      <td>0.002517</td>\n",
       "      <td>0.249072</td>\n",
       "    </tr>\n",
       "    <tr>\n",
       "      <th>BasketballPass</th>\n",
       "      <td>112</td>\n",
       "      <td>0.001158</td>\n",
       "      <td>2</td>\n",
       "      <td>0.000201</td>\n",
       "      <td>0.173817</td>\n",
       "    </tr>\n",
       "    <tr>\n",
       "      <th>WeightliftingJerk</th>\n",
       "      <td>234</td>\n",
       "      <td>0.002420</td>\n",
       "      <td>4</td>\n",
       "      <td>0.000403</td>\n",
       "      <td>0.166389</td>\n",
       "    </tr>\n",
       "    <tr>\n",
       "      <th>OneRaisedArmCelebrate</th>\n",
       "      <td>176</td>\n",
       "      <td>0.001820</td>\n",
       "      <td>3</td>\n",
       "      <td>0.000302</td>\n",
       "      <td>0.165916</td>\n",
       "    </tr>\n",
       "    <tr>\n",
       "      <th>FistPump</th>\n",
       "      <td>129</td>\n",
       "      <td>0.001334</td>\n",
       "      <td>2</td>\n",
       "      <td>0.000201</td>\n",
       "      <td>0.150911</td>\n",
       "    </tr>\n",
       "    <tr>\n",
       "      <th>Drop</th>\n",
       "      <td>66</td>\n",
       "      <td>0.000683</td>\n",
       "      <td>1</td>\n",
       "      <td>0.000101</td>\n",
       "      <td>0.147481</td>\n",
       "    </tr>\n",
       "    <tr>\n",
       "      <th>Hug</th>\n",
       "      <td>102</td>\n",
       "      <td>0.001055</td>\n",
       "      <td>1</td>\n",
       "      <td>0.000101</td>\n",
       "      <td>0.095429</td>\n",
       "    </tr>\n",
       "  </tbody>\n",
       "</table>\n",
       "</div>"
      ],
      "text/plain": [
       "                        count_original  count_original_prop  count_worst  \\\n",
       " SoccerPenalty                     224             0.002317           68   \n",
       " TennisSwing                       333             0.003444           83   \n",
       " Stand                           12771             0.132075         2271   \n",
       " BasketballBlock                    65             0.000672           11   \n",
       " HighJump                         1203             0.012441          195   \n",
       " HammerThrow                      2739             0.028326          377   \n",
       " TalkToCamera                     5975             0.061792          798   \n",
       "BasketballDunk                     943             0.009752          124   \n",
       " HammerThrowWindUp                 710             0.007343           91   \n",
       " Jump                             4916             0.050840          602   \n",
       " Run                              9231             0.095465         1105   \n",
       " HammerThrowSpin                  1145             0.011841          128   \n",
       " HammerThrowRelease                333             0.003444           37   \n",
       " Walk                            11381             0.117700         1133   \n",
       " BasketballGuard                   558             0.005771           55   \n",
       " PoleVault                        4696             0.048565          459   \n",
       " Sit                              7531             0.077884          729   \n",
       " Shotput                          1005             0.010394           94   \n",
       "BaseballPitch                      150             0.001551           14   \n",
       " BodyBend                          424             0.004385           38   \n",
       " DiscusRelease                     134             0.001386           12   \n",
       " ThrowDiscus                       670             0.006929           60   \n",
       "CricketShot                        267             0.002761           23   \n",
       " DiscusWindUp                      119             0.001231           10   \n",
       " BodyTurn                          232             0.002399           19   \n",
       "Diving                            1387             0.014344          113   \n",
       " CloseUpTalkToCamera              3709             0.038358          265   \n",
       " Throw                            1230             0.012720           87   \n",
       " VolleyballSet                     160             0.001655           11   \n",
       " BasketballDribble                 277             0.002865           19   \n",
       " ClapHands                        1076             0.011128           72   \n",
       " HighFive                           30             0.000310            2   \n",
       " BodyRoll                          856             0.008853           57   \n",
       " StandUp                           613             0.006340           40   \n",
       " BasketballShot                     77             0.000796            5   \n",
       " PoleVaultPlantPole                115             0.001189            7   \n",
       " WeightliftingClean                476             0.004923           28   \n",
       "CleanAndJerk                      1669             0.017260           96   \n",
       " TwoHandedCatch                     71             0.000734            4   \n",
       " VolleyballSpiking                 524             0.005419           29   \n",
       "CricketBowling                     328             0.003392           18   \n",
       "CliffDiving                        763             0.007891           34   \n",
       " LongJump                         1763             0.018233           78   \n",
       "FrisbeeCatch                       252             0.002606           11   \n",
       " ShotPutBend                       207             0.002141            9   \n",
       " PickUp                            765             0.007911           33   \n",
       " TwoRaisedArmCelebrate             444             0.004592           17   \n",
       " OneHandedCatch                     82             0.000848            3   \n",
       " JavelinThrow                     1787             0.018481           64   \n",
       " NoHuman                          3654             0.037789          126   \n",
       "Billiards                          309             0.003196           10   \n",
       " BodyContract                     2264             0.023414           73   \n",
       " Squat                            1830             0.018925           49   \n",
       " Fall                              977             0.010104           25   \n",
       " BasketballPass                    112             0.001158            2   \n",
       " WeightliftingJerk                 234             0.002420            4   \n",
       " OneRaisedArmCelebrate             176             0.001820            3   \n",
       " FistPump                          129             0.001334            2   \n",
       " Drop                               66             0.000683            1   \n",
       " Hug                               102             0.001055            1   \n",
       "\n",
       "                        count_worst_prop  prop_worst/prop_original  \n",
       " SoccerPenalty                  0.006845                  2.954886  \n",
       " TennisSwing                    0.008355                  2.426128  \n",
       " Stand                          0.228609                  1.730900  \n",
       " BasketballBlock                0.001107                  1.647249  \n",
       " HighJump                       0.019630                  1.577789  \n",
       " HammerThrow                    0.037950                  1.339767  \n",
       " TalkToCamera                   0.080330                  1.300004  \n",
       "BasketballDunk                  0.012482                  1.279941  \n",
       " HammerThrowWindUp              0.009160                  1.247564  \n",
       " Jump                           0.060600                  1.191968  \n",
       " Run                            0.111234                  1.165181  \n",
       " HammerThrowSpin                0.012885                  1.088139  \n",
       " HammerThrowRelease             0.003725                  1.081527  \n",
       " Walk                           0.114053                  0.969012  \n",
       " BasketballGuard                0.005537                  0.959419  \n",
       " PoleVault                      0.046205                  0.951403  \n",
       " Sit                            0.073384                  0.942225  \n",
       " Shotput                        0.009462                  0.910420  \n",
       "BaseballPitch                   0.001409                  0.908483  \n",
       " BodyBend                       0.003825                  0.872364  \n",
       " DiscusRelease                  0.001208                  0.871678  \n",
       " ThrowDiscus                    0.006040                  0.871678  \n",
       "CricketShot                     0.002315                  0.838487  \n",
       " DiscusWindUp                   0.001007                  0.817962  \n",
       " BodyTurn                       0.001913                  0.797160  \n",
       "Diving                          0.011375                  0.793016  \n",
       " CloseUpTalkToCamera            0.026676                  0.695455  \n",
       " Throw                          0.008758                  0.688484  \n",
       " VolleyballSet                  0.001107                  0.669195  \n",
       " BasketballDribble              0.001913                  0.667657  \n",
       " ClapHands                      0.007248                  0.651329  \n",
       " HighFive                       0.000201                  0.648916  \n",
       " BodyRoll                       0.005738                  0.648158  \n",
       " StandUp                        0.004027                  0.635154  \n",
       " BasketballShot                 0.000503                  0.632061  \n",
       " PoleVaultPlantPole             0.000705                  0.592489  \n",
       " WeightliftingClean             0.002819                  0.572573  \n",
       "CleanAndJerk                    0.009664                  0.559880  \n",
       " TwoHandedCatch                 0.000403                  0.548380  \n",
       " VolleyballSpiking              0.002919                  0.538700  \n",
       "CricketBowling                  0.001812                  0.534169  \n",
       "CliffDiving                     0.003423                  0.433745  \n",
       " LongJump                       0.007852                  0.430648  \n",
       "FrisbeeCatch                    0.001107                  0.424886  \n",
       " ShotPutBend                    0.000906                  0.423206  \n",
       " PickUp                         0.003322                  0.419887  \n",
       " TwoRaisedArmCelebrate          0.001711                  0.372688  \n",
       " OneHandedCatch                 0.000302                  0.356113  \n",
       " JavelinThrow                   0.006443                  0.348606  \n",
       " NoHuman                        0.012684                  0.335646  \n",
       "Billiards                       0.001007                  0.315008  \n",
       " BodyContract                   0.007349                  0.313853  \n",
       " Squat                          0.004933                  0.260630  \n",
       " Fall                           0.002517                  0.249072  \n",
       " BasketballPass                 0.000201                  0.173817  \n",
       " WeightliftingJerk              0.000403                  0.166389  \n",
       " OneRaisedArmCelebrate          0.000302                  0.165916  \n",
       " FistPump                       0.000201                  0.150911  \n",
       " Drop                           0.000101                  0.147481  \n",
       " Hug                            0.000101                  0.095429  "
      ]
     },
     "execution_count": 34,
     "metadata": {},
     "output_type": "execute_result"
    }
   ],
   "source": [
    "df_comp"
   ]
  },
  {
   "cell_type": "code",
   "execution_count": 35,
   "metadata": {},
   "outputs": [
    {
     "name": "stdout",
     "output_type": "stream",
     "text": [
      "16\n"
     ]
    }
   ],
   "source": [
    "for i in range(len(labels_signification)):\n",
    "    if labels_signification[i]==' SoccerPenalty':\n",
    "        print(i)"
   ]
  },
  {
   "cell_type": "code",
   "execution_count": 36,
   "metadata": {},
   "outputs": [
    {
     "name": "stdout",
     "output_type": "stream",
     "text": [
      "\n",
      "Ground truth:\n",
      "[' SoccerPenalty', ' Run']\n",
      "Stage 1:\n",
      "[' SoccerPenalty', ' Run', ' Stand', ' Walk', ' NoHuman']\n",
      "[0.456056, 0.36556628, 0.33440477, 0.20593996, 0.11342922]\n",
      "Stage 2:\n",
      "[' Stand', ' SoccerPenalty', ' Walk', ' Run', 'FrisbeeCatch']\n",
      "[0.62028265, 0.47264832, 0.23700832, 0.1307938, 0.027429711]\n",
      "\n",
      "Ground truth:\n",
      "[' SoccerPenalty', ' Run']\n",
      "Stage 1:\n",
      "[' SoccerPenalty', ' Run', ' Stand', ' Walk', ' NoHuman']\n",
      "[0.4508996, 0.36565074, 0.34662694, 0.20347533, 0.10756631]\n",
      "Stage 2:\n",
      "[' Stand', ' SoccerPenalty', ' Walk', ' Run', 'FrisbeeCatch']\n",
      "[0.6329229, 0.47087854, 0.23670697, 0.133646, 0.028175456]\n",
      "\n",
      "Ground truth:\n",
      "[' SoccerPenalty', ' Run']\n",
      "Stage 1:\n",
      "[' SoccerPenalty', ' Run', ' Stand', ' Walk', ' NoHuman']\n",
      "[0.53181297, 0.39083174, 0.27451947, 0.22546032, 0.13751811]\n",
      "Stage 2:\n",
      "[' Stand', ' SoccerPenalty', ' Walk', ' Run', ' FistPump']\n",
      "[0.60667527, 0.5682125, 0.24966942, 0.11227509, 0.021989943]\n",
      "\n",
      "Ground truth:\n",
      "[' SoccerPenalty']\n",
      "Stage 1:\n",
      "[' SoccerPenalty', ' Run', ' Stand', ' Walk', ' NoHuman']\n",
      "[0.43009806, 0.2946326, 0.271502, 0.21908087, 0.096566804]\n",
      "Stage 2:\n",
      "[' Stand', ' SoccerPenalty', ' Walk', ' Run', 'FrisbeeCatch']\n",
      "[0.5387268, 0.5382145, 0.27830455, 0.11572288, 0.022099543]\n",
      "\n",
      "Ground truth:\n",
      "[' SoccerPenalty']\n",
      "Stage 1:\n",
      "[' SoccerPenalty', ' Stand', ' Run', ' Walk', ' NoHuman']\n",
      "[0.38433692, 0.27577645, 0.27261925, 0.22119156, 0.0917183]\n",
      "Stage 2:\n",
      "[' Stand', ' SoccerPenalty', ' Walk', ' Run', 'FrisbeeCatch']\n",
      "[0.5028549, 0.49226448, 0.29112342, 0.120202236, 0.026056765]\n",
      "\n",
      "Ground truth:\n",
      "[' SoccerPenalty']\n",
      "Stage 1:\n",
      "[' SoccerPenalty', ' Stand', ' Run', ' Walk', ' NoHuman']\n",
      "[0.3762641, 0.2900611, 0.23483755, 0.20285432, 0.09140988]\n",
      "Stage 2:\n",
      "[' Stand', ' SoccerPenalty', ' Walk', ' Run', 'FrisbeeCatch']\n",
      "[0.5183364, 0.49989036, 0.27484226, 0.10475907, 0.02642139]\n",
      "\n",
      "Ground truth:\n",
      "[' SoccerPenalty', ' Run']\n",
      "Stage 1:\n",
      "[' Run', ' SoccerPenalty', ' Stand', ' Walk', ' NoHuman']\n",
      "[0.54554856, 0.3240742, 0.27960232, 0.1682982, 0.09189338]\n",
      "Stage 2:\n",
      "[' Stand', ' Run', ' SoccerPenalty', ' Walk', 'FrisbeeCatch']\n",
      "[0.41239494, 0.35757977, 0.34737226, 0.1727732, 0.0609263]\n",
      "\n",
      "Ground truth:\n",
      "[' SoccerPenalty', ' Run']\n",
      "Stage 1:\n",
      "[' Run', ' SoccerPenalty', ' Stand', 'FrisbeeCatch', ' NoHuman']\n",
      "[0.5316038, 0.46634677, 0.23848024, 0.12974218, 0.11854247]\n",
      "Stage 2:\n",
      "[' Stand', ' SoccerPenalty', ' Run', ' Walk', 'FrisbeeCatch']\n",
      "[0.4795073, 0.44968036, 0.25241077, 0.11514199, 0.04821368]\n",
      "\n",
      "Ground truth:\n",
      "[' SoccerPenalty', ' Run']\n",
      "Stage 1:\n",
      "[' Run', ' SoccerPenalty', ' Stand', ' Walk', 'FrisbeeCatch']\n",
      "[0.5236554, 0.47490072, 0.24383344, 0.17249203, 0.11065444]\n",
      "Stage 2:\n",
      "[' Stand', ' SoccerPenalty', ' Run', ' Walk', 'FrisbeeCatch']\n",
      "[0.5152088, 0.4725232, 0.23686923, 0.17730057, 0.033322107]\n",
      "\n",
      "Ground truth:\n",
      "[' SoccerPenalty', ' Run']\n",
      "Stage 1:\n",
      "[' Run', ' SoccerPenalty', ' Stand', ' Walk', 'FrisbeeCatch']\n",
      "[0.39833474, 0.34641916, 0.34533358, 0.17634323, 0.11802491]\n",
      "Stage 2:\n",
      "[' Stand', ' SoccerPenalty', ' Run', ' Walk', 'FrisbeeCatch']\n",
      "[0.53491884, 0.33126125, 0.21458495, 0.20754519, 0.06599137]\n",
      "\n",
      "Ground truth:\n",
      "[' SoccerPenalty', ' Run']\n",
      "Stage 1:\n",
      "[' Run', ' Stand', ' SoccerPenalty', ' Walk', 'FrisbeeCatch']\n",
      "[0.39591753, 0.36348623, 0.346115, 0.17995861, 0.10760179]\n",
      "Stage 2:\n",
      "[' Stand', ' SoccerPenalty', ' Walk', ' Run', 'FrisbeeCatch']\n",
      "[0.56552047, 0.3571202, 0.21448244, 0.21301919, 0.06642118]\n",
      "\n",
      "Ground truth:\n",
      "[' SoccerPenalty', ' Run']\n",
      "Stage 1:\n",
      "[' Run', ' Walk', ' SoccerPenalty', ' Stand', ' ClapHands']\n",
      "[0.34408876, 0.30079892, 0.23447832, 0.19222306, 0.054399744]\n",
      "Stage 2:\n",
      "[' Walk', ' SoccerPenalty', ' Stand', ' Run', ' FistPump']\n",
      "[0.35860297, 0.32898876, 0.2988149, 0.24809189, 0.040569425]\n",
      "\n",
      "Ground truth:\n",
      "[' SoccerPenalty', ' Run']\n",
      "Stage 1:\n",
      "[' SoccerPenalty', ' Stand', ' Run', ' Walk', ' NoHuman']\n",
      "[0.425114, 0.36061487, 0.34252486, 0.1960576, 0.099376716]\n",
      "Stage 2:\n",
      "[' Stand', ' SoccerPenalty', ' Walk', ' Run', 'FrisbeeCatch']\n",
      "[0.6338189, 0.44814348, 0.23459765, 0.13374543, 0.031099666]\n",
      "\n",
      "Ground truth:\n",
      "[' SoccerPenalty', ' Stand']\n",
      "Stage 1:\n",
      "[' Stand', ' Walk', ' Run', ' Sit', ' TalkToCamera']\n",
      "[0.57238215, 0.51535434, 0.28189063, 0.118946895, 0.023296295]\n",
      "Stage 2:\n",
      "[' Walk', ' Stand', ' Run', ' Sit', ' TwoRaisedArmCelebrate']\n",
      "[0.67198294, 0.52414644, 0.20350315, 0.13176344, 0.01671275]\n",
      "\n",
      "Ground truth:\n",
      "[' SoccerPenalty', ' Run']\n",
      "Stage 1:\n",
      "[' SoccerPenalty', ' Run', ' Walk', ' Stand', ' NoHuman']\n",
      "[0.55578125, 0.5271797, 0.20679979, 0.18481442, 0.09910463]\n",
      "Stage 2:\n",
      "[' SoccerPenalty', ' Stand', ' Walk', ' Run', ' FistPump']\n",
      "[0.634092, 0.51364744, 0.22159985, 0.1973746, 0.025449311]\n",
      "\n",
      "Ground truth:\n",
      "[' SoccerPenalty', ' Run']\n",
      "Stage 1:\n",
      "[' Run', ' Walk', ' Stand', ' SoccerPenalty', ' ClapHands']\n",
      "[0.383589, 0.31198096, 0.20097134, 0.1974544, 0.06449029]\n",
      "Stage 2:\n",
      "[' Walk', ' Run', ' Stand', ' SoccerPenalty', ' TwoRaisedArmCelebrate']\n",
      "[0.34308782, 0.29935893, 0.27157682, 0.23323138, 0.050647512]\n",
      "\n",
      "Ground truth:\n",
      "[' SoccerPenalty', ' Run']\n",
      "Stage 1:\n",
      "[' Run', ' Stand', ' SoccerPenalty', ' Walk', 'FrisbeeCatch']\n",
      "[0.370299, 0.36404344, 0.3280034, 0.16377124, 0.09807865]\n",
      "Stage 2:\n",
      "[' Stand', ' SoccerPenalty', ' Run', ' Walk', 'FrisbeeCatch']\n",
      "[0.5742438, 0.359969, 0.21018158, 0.20199822, 0.06572612]\n",
      "\n",
      "Ground truth:\n",
      "[' SoccerPenalty', ' Stand']\n",
      "Stage 1:\n",
      "[' Stand', ' Walk', ' Run', ' SoccerPenalty', ' Sit']\n",
      "[0.4826066, 0.36532608, 0.20251046, 0.04334302, 0.0420079]\n",
      "Stage 2:\n",
      "[' Walk', ' Stand', ' Run', ' SoccerPenalty', ' Sit']\n",
      "[0.5255244, 0.4828368, 0.17912519, 0.047033284, 0.040348247]\n",
      "\n",
      "Ground truth:\n",
      "[' SoccerPenalty', ' Run']\n",
      "Stage 1:\n",
      "[' Run', ' Stand', ' SoccerPenalty', ' Walk', 'FrisbeeCatch']\n",
      "[0.39129704, 0.35831285, 0.32891992, 0.1588479, 0.10489637]\n",
      "Stage 2:\n",
      "[' Stand', ' SoccerPenalty', ' Run', ' Walk', 'FrisbeeCatch']\n",
      "[0.55372596, 0.35124367, 0.22352193, 0.19036007, 0.072516575]\n",
      "\n",
      "Ground truth:\n",
      "[' SoccerPenalty', ' Run']\n",
      "Stage 1:\n",
      "[' Run', ' Stand', ' SoccerPenalty', ' Walk', 'FrisbeeCatch']\n",
      "[0.3922265, 0.3687129, 0.30956092, 0.16170393, 0.10587693]\n",
      "Stage 2:\n",
      "[' Stand', ' SoccerPenalty', ' Run', ' Walk', 'FrisbeeCatch']\n",
      "[0.54790974, 0.32403544, 0.23320661, 0.19443767, 0.07812397]\n",
      "\n",
      "Ground truth:\n",
      "[' SoccerPenalty', ' Run']\n",
      "Stage 1:\n",
      "[' Run', ' Stand', ' SoccerPenalty', ' Walk', 'FrisbeeCatch']\n",
      "[0.398404, 0.3572025, 0.32707837, 0.13680409, 0.13418092]\n",
      "Stage 2:\n",
      "[' Stand', ' SoccerPenalty', ' Run', ' Walk', 'FrisbeeCatch']\n",
      "[0.5345741, 0.3102185, 0.23305003, 0.16002114, 0.07937793]\n",
      "\n",
      "Ground truth:\n",
      "[' SoccerPenalty', ' Run']\n",
      "Stage 1:\n",
      "[' SoccerPenalty', ' Run', ' Stand', ' Walk', ' NoHuman']\n",
      "[0.5092535, 0.33120316, 0.224675, 0.15505865, 0.13605435]\n",
      "Stage 2:\n",
      "[' SoccerPenalty', ' Stand', ' Walk', ' Run', 'FrisbeeCatch']\n",
      "[0.6199956, 0.5503293, 0.17698398, 0.1015931, 0.01644442]\n",
      "\n",
      "Ground truth:\n",
      "[' SoccerPenalty', ' Run']\n",
      "Stage 1:\n",
      "[' SoccerPenalty', ' Run', ' Stand', ' Walk', ' NoHuman']\n",
      "[0.56801856, 0.43204233, 0.19991547, 0.18231033, 0.14770988]\n",
      "Stage 2:\n",
      "[' SoccerPenalty', ' Stand', ' Walk', ' Run', ' FistPump']\n",
      "[0.6475276, 0.54011285, 0.18870416, 0.124093056, 0.01717988]\n",
      "\n",
      "Ground truth:\n",
      "[' SoccerPenalty', ' Run']\n",
      "Stage 1:\n",
      "[' Run', ' Stand', ' SoccerPenalty', ' Walk', 'FrisbeeCatch']\n",
      "[0.38546503, 0.35297272, 0.34048885, 0.16306433, 0.10179119]\n",
      "Stage 2:\n",
      "[' Stand', ' SoccerPenalty', ' Run', ' Walk', 'FrisbeeCatch']\n",
      "[0.5653075, 0.36836472, 0.2140768, 0.19814867, 0.06627604]\n",
      "\n",
      "Ground truth:\n",
      "[' SoccerPenalty', ' Run']\n",
      "Stage 1:\n",
      "[' Run', ' SoccerPenalty', ' Walk', ' Stand', ' JavelinThrow']\n",
      "[0.49429083, 0.3701626, 0.28606996, 0.1675917, 0.025940962]\n",
      "Stage 2:\n",
      "[' SoccerPenalty', ' Stand', ' Walk', ' Run', ' FistPump']\n",
      "[0.56053287, 0.37235352, 0.35417417, 0.29602906, 0.026158528]\n",
      "\n",
      "Ground truth:\n",
      "[' SoccerPenalty', ' Run']\n",
      "Stage 1:\n",
      "[' Run', ' Stand', ' Walk', ' SoccerPenalty', 'FrisbeeCatch']\n",
      "[0.5088747, 0.43543607, 0.27173477, 0.14740527, 0.09067473]\n",
      "Stage 2:\n",
      "[' Stand', ' Run', ' Walk', ' SoccerPenalty', 'FrisbeeCatch']\n",
      "[0.41274726, 0.374269, 0.29884222, 0.14022005, 0.11665465]\n",
      "\n",
      "Ground truth:\n",
      "[' SoccerPenalty', ' Sit', ' Stand', ' Run']\n",
      "Stage 1:\n",
      "[' Stand', ' Walk', ' Run', ' Sit', ' ClapHands']\n",
      "[0.54293895, 0.41132712, 0.18714742, 0.08106224, 0.073075525]\n",
      "Stage 2:\n",
      "[' Walk', ' Stand', ' Run', ' ClapHands', ' Sit']\n",
      "[0.51873463, 0.5131824, 0.14771737, 0.080513656, 0.07602739]\n",
      "\n",
      "Ground truth:\n",
      "[' SoccerPenalty', ' Stand', ' Run']\n",
      "Stage 1:\n",
      "[' Run', 'FrisbeeCatch', ' Stand', ' Walk', ' SoccerPenalty']\n",
      "[0.7153879, 0.3587935, 0.30066425, 0.10246146, 0.038644824]\n",
      "Stage 2:\n",
      "[' Run', 'FrisbeeCatch', ' OneHandedCatch', ' Fall', ' Walk']\n",
      "[0.80758476, 0.6909828, 0.12668449, 0.10413866, 0.08516556]\n",
      "\n",
      "Ground truth:\n",
      "[' SoccerPenalty', ' Stand', ' Run']\n",
      "Stage 1:\n",
      "[' Run', ' Walk', ' Stand', ' Sit', 'FrisbeeCatch']\n",
      "[0.595178, 0.56737906, 0.360448, 0.07594977, 0.028993288]\n",
      "Stage 2:\n",
      "[' Walk', ' Run', ' Stand', ' Sit', ' TwoRaisedArmCelebrate']\n",
      "[0.57384753, 0.51749426, 0.2645394, 0.055740688, 0.027529735]\n",
      "\n",
      "Ground truth:\n",
      "[' SoccerPenalty', ' Stand', ' Run']\n",
      "Stage 1:\n",
      "[' Run', ' Stand', 'FrisbeeCatch', ' Walk', ' SoccerPenalty']\n",
      "[0.64633477, 0.46698335, 0.30384693, 0.09711754, 0.04030682]\n",
      "Stage 2:\n",
      "[' Run', 'FrisbeeCatch', ' Stand', ' Walk', ' OneHandedCatch']\n",
      "[0.7282658, 0.6124046, 0.1988496, 0.095437735, 0.08548749]\n",
      "\n",
      "Ground truth:\n",
      "[' SoccerPenalty', ' Stand', ' Run']\n",
      "Stage 1:\n",
      "[' Run', ' Stand', 'FrisbeeCatch', ' Walk', ' SoccerPenalty']\n",
      "[0.7489109, 0.34892267, 0.3072595, 0.107625455, 0.043343894]\n",
      "Stage 2:\n",
      "[' Run', 'FrisbeeCatch', ' Stand', ' OneHandedCatch', ' Walk']\n",
      "[0.8166586, 0.6235495, 0.118239485, 0.094760485, 0.08909223]\n",
      "\n",
      "Ground truth:\n",
      "[' SoccerPenalty', ' Run']\n",
      "Stage 1:\n",
      "[' Run', ' SoccerPenalty', ' Walk', ' Stand', ' NoHuman']\n",
      "[0.55887496, 0.51724666, 0.22167383, 0.0939417, 0.05451951]\n",
      "Stage 2:\n",
      "[' SoccerPenalty', ' Stand', ' Run', ' Walk', ' FistPump']\n",
      "[0.7046489, 0.3212311, 0.27169377, 0.23658945, 0.03695535]\n",
      "\n",
      "Ground truth:\n",
      "[' SoccerPenalty', ' Run']\n",
      "Stage 1:\n",
      "[' Run', ' SoccerPenalty', ' Walk', ' Stand', ' NoHuman']\n",
      "[0.61234725, 0.47334802, 0.1718082, 0.14617223, 0.080749035]\n",
      "Stage 2:\n",
      "[' SoccerPenalty', ' Stand', ' Run', ' Walk', 'FrisbeeCatch']\n",
      "[0.59860533, 0.36944795, 0.3450324, 0.17395528, 0.03444554]\n",
      "\n",
      "Ground truth:\n",
      "[' SoccerPenalty', ' Run']\n",
      "Stage 1:\n",
      "[' Run', ' SoccerPenalty', ' Walk', ' Stand', ' NoHuman']\n",
      "[0.6343838, 0.5737493, 0.19094507, 0.16548459, 0.15074678]\n",
      "Stage 2:\n",
      "[' SoccerPenalty', ' Stand', ' Run', ' Walk', 'FrisbeeCatch']\n",
      "[0.56184673, 0.3847242, 0.25331625, 0.16482861, 0.03032214]\n",
      "\n",
      "Ground truth:\n",
      "[' SoccerPenalty', ' Run']\n",
      "Stage 1:\n",
      "[' Run', ' SoccerPenalty', ' Stand', 'FrisbeeCatch', ' Walk']\n",
      "[0.68691635, 0.55376554, 0.15934314, 0.14852463, 0.14507201]\n",
      "Stage 2:\n",
      "[' SoccerPenalty', ' Stand', ' Run', ' Walk', 'FrisbeeCatch']\n",
      "[0.53817713, 0.3828974, 0.342574, 0.12336722, 0.04159634]\n",
      "\n",
      "Ground truth:\n",
      "[' SoccerPenalty', ' Run']\n",
      "Stage 1:\n",
      "[' Run', ' SoccerPenalty', ' Walk', ' Stand', ' NoHuman']\n",
      "[0.63133323, 0.4986632, 0.18013941, 0.1309438, 0.08837795]\n",
      "Stage 2:\n",
      "[' SoccerPenalty', ' Stand', ' Run', ' Walk', 'FrisbeeCatch']\n",
      "[0.6174268, 0.3551392, 0.3441933, 0.18397889, 0.030041875]\n",
      "\n",
      "Ground truth:\n",
      "[' SoccerPenalty', ' Run']\n",
      "Stage 1:\n",
      "[' Run', ' SoccerPenalty', ' Walk', ' Stand', ' NoHuman']\n",
      "[0.62121296, 0.5426476, 0.20566118, 0.14921978, 0.11779857]\n",
      "Stage 2:\n",
      "[' SoccerPenalty', ' Stand', ' Run', ' Walk', 'FrisbeeCatch']\n",
      "[0.6057577, 0.3789374, 0.27584073, 0.19623818, 0.024808409]\n",
      "\n",
      "Ground truth:\n",
      "[' SoccerPenalty', ' Run']\n",
      "Stage 1:\n",
      "[' Run', ' SoccerPenalty', ' Walk', ' Stand', ' NoHuman']\n",
      "[0.60050774, 0.56046224, 0.190488, 0.15071952, 0.1225761]\n",
      "Stage 2:\n",
      "[' SoccerPenalty', ' Stand', ' Run', ' Walk', ' Squat']\n",
      "[0.62269014, 0.40356866, 0.24966854, 0.18208416, 0.023362778]\n",
      "\n",
      "Ground truth:\n",
      "[' SoccerPenalty', ' Run']\n",
      "Stage 1:\n",
      "[' Run', ' SoccerPenalty', ' Stand', ' Walk', 'FrisbeeCatch']\n",
      "[0.5834295, 0.5349106, 0.12552495, 0.109303236, 0.10007015]\n",
      "Stage 2:\n",
      "[' SoccerPenalty', ' Stand', ' Run', ' Walk', 'FrisbeeCatch']\n",
      "[0.6322997, 0.37466618, 0.2588457, 0.100208715, 0.023885528]\n",
      "\n",
      "Ground truth:\n",
      "[' SoccerPenalty', ' Run']\n",
      "Stage 1:\n",
      "[' Run', ' SoccerPenalty', ' Stand', ' Walk', 'FrisbeeCatch']\n",
      "[0.6073847, 0.42945865, 0.18063734, 0.1720274, 0.07535462]\n",
      "Stage 2:\n",
      "[' SoccerPenalty', ' Stand', ' Run', ' Walk', 'FrisbeeCatch']\n",
      "[0.5496079, 0.40241316, 0.37393567, 0.17947945, 0.039006893]\n",
      "\n",
      "Ground truth:\n",
      "[' SoccerPenalty', ' Run']\n",
      "Stage 1:\n",
      "[' Run', ' SoccerPenalty', ' Walk', ' Stand', 'FrisbeeCatch']\n",
      "[0.5215263, 0.39624485, 0.17033409, 0.16715932, 0.040673506]\n",
      "Stage 2:\n",
      "[' SoccerPenalty', ' Stand', ' Run', ' Walk', 'FrisbeeCatch']\n",
      "[0.6333522, 0.3971541, 0.3403786, 0.20975107, 0.027314456]\n",
      "\n",
      "Ground truth:\n",
      "[' SoccerPenalty', ' Run']\n",
      "Stage 1:\n",
      "[' Run', ' SoccerPenalty', ' Stand', ' Walk', ' JavelinThrow']\n",
      "[0.678326, 0.19858119, 0.1797859, 0.1597577, 0.073379636]\n",
      "Stage 2:\n",
      "[' Run', ' Stand', ' SoccerPenalty', ' Walk', ' JavelinThrow']\n",
      "[0.6643568, 0.29012483, 0.26562783, 0.16131663, 0.038586333]\n",
      "\n",
      "Ground truth:\n",
      "[' SoccerPenalty', ' Run']\n",
      "Stage 1:\n",
      "[' Run', ' SoccerPenalty', ' Walk', ' Stand', ' NoHuman']\n",
      "[0.6173414, 0.5717957, 0.19205624, 0.18009993, 0.12743579]\n",
      "Stage 2:\n",
      "[' SoccerPenalty', ' Stand', ' Run', ' Walk', 'FrisbeeCatch']\n",
      "[0.5832909, 0.44228008, 0.24887486, 0.17826824, 0.025939478]\n",
      "\n",
      "Ground truth:\n",
      "[' SoccerPenalty', ' Run']\n",
      "Stage 1:\n",
      "[' Run', ' SoccerPenalty', ' Walk', ' NoHuman', ' Stand']\n",
      "[0.6519365, 0.5822941, 0.19339219, 0.159192, 0.13870046]\n",
      "Stage 2:\n",
      "[' SoccerPenalty', ' Stand', ' Run', ' Walk', 'FrisbeeCatch']\n",
      "[0.59958494, 0.36339685, 0.26630315, 0.1657424, 0.02693934]\n",
      "\n",
      "Ground truth:\n",
      "[' SoccerPenalty', ' Run']\n",
      "Stage 1:\n",
      "[' Run', ' SoccerPenalty', ' Stand', ' Walk', 'FrisbeeCatch']\n",
      "[0.66394585, 0.5530464, 0.1380968, 0.13335544, 0.12474039]\n",
      "Stage 2:\n",
      "[' SoccerPenalty', ' Stand', ' Run', ' Walk', 'FrisbeeCatch']\n",
      "[0.60466605, 0.38559192, 0.3351932, 0.121788345, 0.03734293]\n",
      "\n",
      "Ground truth:\n",
      "[' SoccerPenalty', ' Run']\n",
      "Stage 1:\n",
      "[' Run', ' SoccerPenalty', ' Walk', ' Stand', ' NoHuman']\n",
      "[0.57978565, 0.5059281, 0.22728394, 0.18387339, 0.12092068]\n",
      "Stage 2:\n",
      "[' SoccerPenalty', ' Stand', ' Run', ' Walk', 'FrisbeeCatch']\n",
      "[0.5750058, 0.4181081, 0.25033373, 0.22847332, 0.021193298]\n",
      "\n",
      "Ground truth:\n",
      "[' SoccerPenalty', ' Run']\n",
      "Stage 1:\n",
      "[' Run', ' SoccerPenalty', ' Walk', ' Stand', 'FrisbeeCatch']\n",
      "[0.6748898, 0.5530768, 0.15486294, 0.12969793, 0.1207616]\n",
      "Stage 2:\n",
      "[' SoccerPenalty', ' Stand', ' Run', ' Walk', 'FrisbeeCatch']\n",
      "[0.6255559, 0.36821353, 0.35403043, 0.14450602, 0.039377607]\n",
      "\n",
      "Ground truth:\n",
      "[' SoccerPenalty', ' Run']\n",
      "Stage 1:\n",
      "[' Run', ' SoccerPenalty', ' Walk', ' Stand', 'FrisbeeCatch']\n",
      "[0.654727, 0.51153016, 0.1560456, 0.14071335, 0.09399535]\n",
      "Stage 2:\n",
      "[' SoccerPenalty', ' Stand', ' Run', ' Walk', 'FrisbeeCatch']\n",
      "[0.61765516, 0.37619394, 0.36503455, 0.14885767, 0.03751014]\n",
      "\n",
      "Ground truth:\n",
      "[' SoccerPenalty', ' Run']\n",
      "Stage 1:\n",
      "[' SoccerPenalty', ' Run', ' Stand', ' NoHuman', ' Walk']\n",
      "[0.5183655, 0.4898114, 0.19847743, 0.149896, 0.108372286]\n",
      "Stage 2:\n",
      "[' SoccerPenalty', ' Stand', ' Run', ' Walk', 'FrisbeeCatch']\n",
      "[0.5541109, 0.4988741, 0.18385418, 0.10577519, 0.026504958]\n",
      "\n",
      "Ground truth:\n",
      "[' SoccerPenalty', ' Run']\n",
      "Stage 1:\n",
      "[' Run', ' SoccerPenalty', ' Walk', ' NoHuman', ' Stand']\n",
      "[0.65863144, 0.5464964, 0.16255206, 0.15630455, 0.13687444]\n",
      "Stage 2:\n",
      "[' SoccerPenalty', ' Stand', ' Run', ' Walk', 'FrisbeeCatch']\n",
      "[0.56695217, 0.32900906, 0.2989804, 0.13128339, 0.026432622]\n",
      "\n",
      "Ground truth:\n",
      "[' SoccerPenalty', ' Run']\n",
      "Stage 1:\n",
      "[' Run', ' SoccerPenalty', ' Stand', ' Walk', 'FrisbeeCatch']\n",
      "[0.6433726, 0.49062538, 0.19620839, 0.18037069, 0.10804071]\n",
      "Stage 2:\n",
      "[' SoccerPenalty', ' Stand', ' Run', ' Walk', 'FrisbeeCatch']\n",
      "[0.501876, 0.46365625, 0.35574463, 0.17130238, 0.03706534]\n",
      "\n",
      "Ground truth:\n",
      "[' SoccerPenalty', ' Stand', ' Run']\n",
      "Stage 1:\n",
      "[' Run', ' Stand', 'FrisbeeCatch', ' Walk', ' SoccerPenalty']\n",
      "[0.7202113, 0.380407, 0.31678736, 0.12351457, 0.109138906]\n",
      "Stage 2:\n",
      "[' Run', 'FrisbeeCatch', ' Stand', ' Walk', ' OneHandedCatch']\n",
      "[0.7607611, 0.5450648, 0.1743002, 0.10701066, 0.08429051]\n",
      "\n",
      "Ground truth:\n",
      "[' SoccerPenalty', ' Stand', ' Run']\n",
      "Stage 1:\n",
      "[' Run', ' Stand', 'FrisbeeCatch', ' Walk', ' JavelinThrow']\n",
      "[0.7876776, 0.35863593, 0.21291804, 0.14348446, 0.058010567]\n",
      "Stage 2:\n",
      "[' Run', 'FrisbeeCatch', ' Stand', ' Walk', ' JavelinThrow']\n",
      "[0.83155334, 0.39529607, 0.1801903, 0.112881996, 0.02715498]\n",
      "\n",
      "Ground truth:\n",
      "[' SoccerPenalty', ' Stand']\n",
      "Stage 1:\n",
      "[' Run', ' Stand', 'FrisbeeCatch', ' Walk', ' SoccerPenalty']\n",
      "[0.6784786, 0.36694655, 0.30221775, 0.11159404, 0.05035826]\n",
      "Stage 2:\n",
      "[' Run', 'FrisbeeCatch', ' Stand', ' Walk', ' Fall']\n",
      "[0.7462265, 0.6125279, 0.13655205, 0.098522656, 0.08840111]\n",
      "\n",
      "Ground truth:\n",
      "[' SoccerPenalty', ' Run']\n",
      "Stage 1:\n",
      "[' Stand', ' Run', ' SoccerPenalty', ' Walk', 'FrisbeeCatch']\n",
      "[0.43064174, 0.3300861, 0.16618907, 0.15566437, 0.14284936]\n",
      "Stage 2:\n",
      "[' Stand', ' Run', ' Walk', 'FrisbeeCatch', ' SoccerPenalty']\n",
      "[0.4292009, 0.26397926, 0.19381884, 0.16587165, 0.13306266]\n",
      "\n",
      "Ground truth:\n",
      "[' SoccerPenalty', ' Stand', ' Run', ' Jump']\n",
      "Stage 1:\n",
      "[' Run', ' Stand', 'FrisbeeCatch', ' Walk', ' TalkToCamera']\n",
      "[0.72154886, 0.4024325, 0.2903067, 0.12424338, 0.030549286]\n",
      "Stage 2:\n",
      "[' Run', 'FrisbeeCatch', ' Stand', ' Walk', ' OneHandedCatch']\n",
      "[0.8019356, 0.6067193, 0.152732, 0.10772625, 0.102467686]\n",
      "\n",
      "Ground truth:\n",
      "[' SoccerPenalty', ' Stand']\n",
      "Stage 1:\n",
      "[' Run', ' Stand', ' Walk', ' Sit', ' ClapHands']\n",
      "[0.48783693, 0.44550014, 0.3453991, 0.07586586, 0.029788055]\n",
      "Stage 2:\n",
      "[' Run', ' Walk', ' Stand', ' Sit', 'FrisbeeCatch']\n",
      "[0.4776228, 0.41257545, 0.40667447, 0.06943915, 0.0349384]\n",
      "\n",
      "Ground truth:\n",
      "[' SoccerPenalty', ' Stand', ' Run']\n",
      "Stage 1:\n",
      "[' Run', ' Stand', 'FrisbeeCatch', ' Walk', ' SoccerPenalty']\n",
      "[0.73196286, 0.35238904, 0.22273289, 0.10848541, 0.06503281]\n",
      "Stage 2:\n",
      "[' Run', 'FrisbeeCatch', ' Stand', ' Walk', ' SoccerPenalty']\n",
      "[0.78167576, 0.47128516, 0.20755737, 0.098288395, 0.039121136]\n",
      "\n",
      "Ground truth:\n",
      "[' SoccerPenalty', ' Stand', ' Run']\n",
      "Stage 1:\n",
      "[' Run', ' Stand', 'FrisbeeCatch', ' Walk', ' SoccerPenalty']\n",
      "[0.57318425, 0.39396036, 0.16693732, 0.15802349, 0.06588278]\n",
      "Stage 2:\n",
      "[' Run', 'FrisbeeCatch', ' Stand', ' Walk', ' SoccerPenalty']\n",
      "[0.6018693, 0.32464296, 0.28083795, 0.17222475, 0.049722698]\n",
      "\n",
      "Ground truth:\n",
      "[' SoccerPenalty', ' Stand', ' Run']\n",
      "Stage 1:\n",
      "[' Run', ' Stand', 'FrisbeeCatch', ' Walk', ' SoccerPenalty']\n",
      "[0.6712782, 0.39032716, 0.15190414, 0.12763563, 0.044013318]\n",
      "Stage 2:\n",
      "[' Run', 'FrisbeeCatch', ' Stand', ' Walk', ' SoccerPenalty']\n",
      "[0.71669674, 0.34128177, 0.27556136, 0.12736003, 0.03286625]\n",
      "\n",
      "Ground truth:\n",
      "[' SoccerPenalty', ' Walk', ' Run']\n",
      "Stage 1:\n",
      "[' Run', 'FrisbeeCatch', ' Stand', ' Walk', ' Fall']\n",
      "[0.7951142, 0.36402172, 0.18721455, 0.082075216, 0.04013385]\n",
      "Stage 2:\n",
      "[' Run', 'FrisbeeCatch', ' Fall', ' OneHandedCatch', ' Walk']\n",
      "[0.8745143, 0.7195398, 0.13766068, 0.1270385, 0.057745766]\n",
      "\n",
      "Ground truth:\n",
      "[' SoccerPenalty', ' Sit', ' Stand', ' Run', ' Fall']\n",
      "Stage 1:\n",
      "[' Stand', ' Walk', ' Run', ' Sit', ' SoccerPenalty']\n",
      "[0.48360595, 0.4436696, 0.380638, 0.053892635, 0.0391679]\n",
      "Stage 2:\n",
      "[' Walk', ' Stand', ' Run', ' Sit', ' SoccerPenalty']\n",
      "[0.5800354, 0.46236023, 0.32243013, 0.047817446, 0.03308148]\n",
      "\n",
      "Ground truth:\n",
      "[' SoccerPenalty', ' Stand', ' Run', ' Jump']\n",
      "Stage 1:\n",
      "[' Run', 'FrisbeeCatch', ' Stand', ' Walk', ' SoccerPenalty']\n",
      "[0.781178, 0.31052825, 0.2844519, 0.110844664, 0.07216192]\n",
      "Stage 2:\n",
      "[' Run', 'FrisbeeCatch', ' OneHandedCatch', ' Stand', ' Walk']\n",
      "[0.8378639, 0.60470206, 0.11968677, 0.099018715, 0.08790517]\n",
      "\n",
      "Ground truth:\n",
      "[' SoccerPenalty', ' Stand']\n",
      "Stage 1:\n",
      "[' Run', ' Walk', ' Stand', ' SoccerPenalty', 'FrisbeeCatch']\n",
      "[0.7827416, 0.27542555, 0.23534003, 0.18364662, 0.16755685]\n",
      "Stage 2:\n",
      "[' Run', ' Walk', 'FrisbeeCatch', ' Stand', ' SoccerPenalty']\n",
      "[0.7227754, 0.24027815, 0.22281252, 0.17970091, 0.1478384]\n",
      "\n",
      "Ground truth:\n",
      "[' SoccerPenalty', ' Sit', ' Stand']\n",
      "Stage 1:\n",
      "[' Run', ' Stand', ' Walk', ' Sit', ' SoccerPenalty']\n",
      "[0.77068853, 0.32578343, 0.26859668, 0.08479467, 0.056403164]\n",
      "Stage 2:\n",
      "[' Run', ' Stand', ' Walk', ' JavelinThrow', ' Sit']\n",
      "[0.77718747, 0.3145018, 0.27796826, 0.071719706, 0.06399789]\n",
      "\n",
      "Ground truth:\n",
      "[' SoccerPenalty', ' Walk', ' Run']\n",
      "Stage 1:\n",
      "[' Run', ' SoccerPenalty', ' Walk', ' Stand', 'FrisbeeCatch']\n",
      "[0.7066612, 0.31937334, 0.25661263, 0.22571939, 0.04473016]\n",
      "Stage 2:\n",
      "[' Run', ' SoccerPenalty', ' Stand', ' Walk', 'FrisbeeCatch']\n",
      "[0.56339973, 0.41586256, 0.41425282, 0.2774176, 0.031313665]\n",
      "\n",
      "Ground truth:\n",
      "[' SoccerPenalty', ' Walk', ' Run']\n",
      "Stage 1:\n",
      "[' Run', ' SoccerPenalty', ' Walk', ' Stand', 'FrisbeeCatch']\n",
      "[0.7003101, 0.33285373, 0.2652197, 0.1540907, 0.04934378]\n",
      "Stage 2:\n",
      "[' Run', ' SoccerPenalty', ' Stand', ' Walk', 'FrisbeeCatch']\n",
      "[0.54319364, 0.45786807, 0.2976941, 0.27540377, 0.030876942]\n",
      "\n",
      "Ground truth:\n",
      "[' SoccerPenalty', ' Walk', ' Run']\n",
      "Stage 1:\n",
      "[' Run', ' SoccerPenalty', ' Walk', ' Stand', 'FrisbeeCatch']\n",
      "[0.61379284, 0.27257484, 0.25421077, 0.18075047, 0.03551371]\n",
      "Stage 2:\n",
      "[' Run', ' SoccerPenalty', ' Stand', ' Walk', 'FrisbeeCatch']\n",
      "[0.49525633, 0.41771472, 0.31076795, 0.29207087, 0.029127467]\n"
     ]
    }
   ],
   "source": [
    "label_id = 16\n",
    "\n",
    "for i in range(len(labels_array_s1_worst_10)):\n",
    "    if labels_array_s1_worst_10[i][label_id]:\n",
    "        print(\"\\nGround truth:\")\n",
    "        print([labels_signification[j] for j in np.where(labels_array_s1_worst_10[i]>0)[0]])\n",
    "        print(\"Stage 1:\")\n",
    "        print([labels_signification[j] for j in np.argsort(predictions_array_s1_worst_10[i])[::-1][:top_k]])\n",
    "        print([predictions_array_s1_worst_10[i][j] for j in np.argsort(predictions_array_s1_worst_10[i])[::-1][:top_k]])\n",
    "        print(\"Stage 2:\")\n",
    "        print([labels_signification[j] for j in np.argsort(predictions_array_s2_worst_10[i])[::-1][:top_k]])\n",
    "        print([predictions_array_s2_worst_10[i][j] for j in np.argsort(predictions_array_s2_worst_10[i])[::-1][:top_k]])\n"
   ]
  },
  {
   "cell_type": "code",
   "execution_count": null,
   "metadata": {},
   "outputs": [],
   "source": []
  },
  {
   "cell_type": "code",
   "execution_count": null,
   "metadata": {},
   "outputs": [],
   "source": []
  },
  {
   "cell_type": "code",
   "execution_count": null,
   "metadata": {},
   "outputs": [],
   "source": []
  },
  {
   "cell_type": "code",
   "execution_count": null,
   "metadata": {},
   "outputs": [],
   "source": []
  },
  {
   "cell_type": "code",
   "execution_count": null,
   "metadata": {},
   "outputs": [],
   "source": []
  },
  {
   "cell_type": "code",
   "execution_count": null,
   "metadata": {},
   "outputs": [],
   "source": []
  },
  {
   "cell_type": "markdown",
   "metadata": {},
   "source": [
    "## Loading weights"
   ]
  },
  {
   "cell_type": "code",
   "execution_count": 166,
   "metadata": {},
   "outputs": [],
   "source": [
    "STEP = \"20001\"\n",
    "\n",
    "psi_0 = np.load(\"experiments/thumos/moe/stage2/psi_0_\" + STEP + \".npy\")\n",
    "psi_1 = np.load(\"experiments/thumos/moe/stage2/psi_1_\" + STEP + \".npy\")"
   ]
  },
  {
   "cell_type": "code",
   "execution_count": 167,
   "metadata": {},
   "outputs": [],
   "source": [
    "psi_0 = np.reshape(psi_0, (65,65))\n",
    "psi_1 = np.reshape(psi_1, (65,65))"
   ]
  },
  {
   "cell_type": "markdown",
   "metadata": {},
   "source": [
    "### Reproduction of updated probabilites:"
   ]
  },
  {
   "cell_type": "code",
   "execution_count": 168,
   "metadata": {},
   "outputs": [],
   "source": [
    "def sig(x):\n",
    "    return 1 / (1 + np.exp(-x))"
   ]
  },
  {
   "cell_type": "code",
   "execution_count": 169,
   "metadata": {},
   "outputs": [],
   "source": [
    "def update_rule(prob, psi_0_rule=psi_0, psi_1_rule=psi_1):\n",
    "    phi = -np.log( (1-prob)/(prob + 10e-4) + 10e-4 )\n",
    "    delta = np.matmul(1-prob, psi_0_rule.T) + np.matmul(prob, psi_1_rule.T) + phi\n",
    "    return sig(delta)"
   ]
  },
  {
   "cell_type": "code",
   "execution_count": 170,
   "metadata": {},
   "outputs": [],
   "source": [
    "predictions_array_s1_updated = update_rule(predictions_array_s1)"
   ]
  },
  {
   "cell_type": "code",
   "execution_count": 171,
   "metadata": {},
   "outputs": [
    {
     "data": {
      "text/plain": [
       "3.5762787e-07"
      ]
     },
     "execution_count": 171,
     "metadata": {},
     "output_type": "execute_result"
    }
   ],
   "source": [
    "np.max(np.abs(predictions_array_s1_updated - predictions_array_s2))"
   ]
  },
  {
   "cell_type": "code",
   "execution_count": 172,
   "metadata": {},
   "outputs": [
    {
     "data": {
      "text/plain": [
       "0.5476500328672124"
      ]
     },
     "execution_count": 172,
     "metadata": {},
     "output_type": "execute_result"
    }
   ],
   "source": [
    "gap(labels_array_s1, predictions_array_s1_updated)"
   ]
  },
  {
   "cell_type": "code",
   "execution_count": 173,
   "metadata": {},
   "outputs": [
    {
     "data": {
      "text/plain": [
       "0.3119421195439725"
      ]
     },
     "execution_count": 173,
     "metadata": {},
     "output_type": "execute_result"
    }
   ],
   "source": [
    "map_calc(labels_array_s1, predictions_array_s1_updated)"
   ]
  },
  {
   "cell_type": "markdown",
   "metadata": {},
   "source": [
    "### Trying different matrices for the update:"
   ]
  },
  {
   "cell_type": "markdown",
   "metadata": {},
   "source": [
    "Matrix randomly sparse:"
   ]
  },
  {
   "cell_type": "code",
   "execution_count": 174,
   "metadata": {},
   "outputs": [],
   "source": [
    "random_idxes = np.random.randint(65, size=10)\n",
    "\n",
    "psi_0_sparse_1 = np.copy(psi_0)\n",
    "psi_0_sparse_1[random_idxes,:] = 0\n",
    "psi_0_sparse_1[:,random_idxes] = 0\n",
    "\n",
    "psi_1_sparse_1 = np.copy(psi_1)\n",
    "psi_1_sparse_1[random_idxes,:] = 0\n",
    "psi_1_sparse_1[:,random_idxes] = 0"
   ]
  },
  {
   "cell_type": "code",
   "execution_count": 175,
   "metadata": {},
   "outputs": [],
   "source": [
    "update_sparse_1 = update_rule(predictions_array_s1,\n",
    "                              psi_0_rule=psi_0_sparse_1,\n",
    "                              psi_1_rule=psi_1_sparse_1)"
   ]
  },
  {
   "cell_type": "code",
   "execution_count": 176,
   "metadata": {},
   "outputs": [
    {
     "data": {
      "text/plain": [
       "0.47118104"
      ]
     },
     "execution_count": 176,
     "metadata": {},
     "output_type": "execute_result"
    }
   ],
   "source": [
    "np.max(np.abs(update_sparse_1 - predictions_array_s2))"
   ]
  },
  {
   "cell_type": "code",
   "execution_count": 177,
   "metadata": {},
   "outputs": [
    {
     "data": {
      "text/plain": [
       "0.535755830579098"
      ]
     },
     "execution_count": 177,
     "metadata": {},
     "output_type": "execute_result"
    }
   ],
   "source": [
    "gap(labels_array_s1, update_sparse_1)"
   ]
  },
  {
   "cell_type": "code",
   "execution_count": 178,
   "metadata": {},
   "outputs": [
    {
     "data": {
      "text/plain": [
       "0.302484172168004"
      ]
     },
     "execution_count": 178,
     "metadata": {},
     "output_type": "execute_result"
    }
   ],
   "source": [
    "map_calc(labels_array_s1, update_sparse_1)"
   ]
  },
  {
   "cell_type": "markdown",
   "metadata": {},
   "source": [
    "Sparsing on most common labels:"
   ]
  },
  {
   "cell_type": "code",
   "execution_count": 199,
   "metadata": {},
   "outputs": [],
   "source": [
    "nb_sparse=25\n",
    "most_common = [cnt.most_common()[i][0] for i in range(nb_sparse)]\n",
    "idxes_sparse = [np.where(np.array(labels_signification)==most_common[i])[0][0] for i in range(nb_sparse)]\n",
    "\n",
    "coeff = 0.5\n",
    "\n",
    "psi_0_sparse_1 = np.copy(psi_0)\n",
    "psi_0_sparse_1[idxes_sparse,:] = coeff*psi_0_sparse_1[idxes_sparse,:]\n",
    "psi_0_sparse_1[:,idxes_sparse] = coeff*psi_0_sparse_1[:,idxes_sparse]\n",
    "\n",
    "psi_1_sparse_1 = np.copy(psi_1)\n",
    "psi_1_sparse_1[idxes_sparse,:] = coeff*psi_1_sparse_1[idxes_sparse,:]\n",
    "psi_1_sparse_1[:,idxes_sparse] = coeff*psi_1_sparse_1[:,idxes_sparse]"
   ]
  },
  {
   "cell_type": "code",
   "execution_count": 200,
   "metadata": {},
   "outputs": [],
   "source": [
    "update_sparse_1 = update_rule(predictions_array_s1,\n",
    "                              psi_0_rule=psi_0_sparse_1,\n",
    "                              psi_1_rule=psi_1_sparse_1)\n",
    "\n",
    "for l in range(update_sparse_1.shape[0]):\n",
    "    for i in range(update_sparse_1.shape[1]):\n",
    "        if np.max(np.abs(update_sparse_1[l,i] - predictions_array_s1[l,i]))>0.3:\n",
    "            update_sparse_1[l,i] = (update_sparse_1[l,i] + predictions_array_s1[l,i])/2"
   ]
  },
  {
   "cell_type": "code",
   "execution_count": 201,
   "metadata": {},
   "outputs": [
    {
     "data": {
      "text/plain": [
       "0.3574775"
      ]
     },
     "execution_count": 201,
     "metadata": {},
     "output_type": "execute_result"
    }
   ],
   "source": [
    "np.max(np.abs(update_sparse_1 - predictions_array_s2))"
   ]
  },
  {
   "cell_type": "code",
   "execution_count": 202,
   "metadata": {},
   "outputs": [
    {
     "data": {
      "text/plain": [
       "0.5384769464513681"
      ]
     },
     "execution_count": 202,
     "metadata": {},
     "output_type": "execute_result"
    }
   ],
   "source": [
    "gap(labels_array_s1, update_sparse_1)"
   ]
  },
  {
   "cell_type": "code",
   "execution_count": 203,
   "metadata": {},
   "outputs": [
    {
     "data": {
      "text/plain": [
       "0.308481601981818"
      ]
     },
     "execution_count": 203,
     "metadata": {},
     "output_type": "execute_result"
    }
   ],
   "source": [
    "map_calc(labels_array_s1, update_sparse_1)"
   ]
  },
  {
   "cell_type": "code",
   "execution_count": null,
   "metadata": {},
   "outputs": [],
   "source": []
  }
 ],
 "metadata": {
  "kernelspec": {
   "display_name": "Python 3",
   "language": "python",
   "name": "python3"
  },
  "language_info": {
   "codemirror_mode": {
    "name": "ipython",
    "version": 3
   },
   "file_extension": ".py",
   "mimetype": "text/x-python",
   "name": "python",
   "nbconvert_exporter": "python",
   "pygments_lexer": "ipython3",
   "version": "3.6.4"
  }
 },
 "nbformat": 4,
 "nbformat_minor": 2
}
