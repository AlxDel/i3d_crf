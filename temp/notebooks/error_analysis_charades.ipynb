{
 "cells": [
  {
   "cell_type": "markdown",
   "metadata": {},
   "source": [
    "# Error analysis"
   ]
  },
  {
   "cell_type": "code",
   "execution_count": 189,
   "metadata": {},
   "outputs": [
    {
     "name": "stdout",
     "output_type": "stream",
     "text": [
      "Populating the interactive namespace from numpy and matplotlib\n"
     ]
    }
   ],
   "source": [
    "%pylab inline\n",
    "\n",
    "import numpy as np\n",
    "import matplotlib.pyplot as plt\n",
    "from collections import Counter\n",
    "import seaborn as sb\n",
    "import pandas as pd"
   ]
  },
  {
   "cell_type": "markdown",
   "metadata": {},
   "source": [
    "Name of considered video:"
   ]
  },
  {
   "cell_type": "code",
   "execution_count": 424,
   "metadata": {},
   "outputs": [],
   "source": [
    "video_name = \"6TC5G\""
   ]
  },
  {
   "cell_type": "markdown",
   "metadata": {},
   "source": [
    "Loading labels signification"
   ]
  },
  {
   "cell_type": "code",
   "execution_count": 425,
   "metadata": {},
   "outputs": [],
   "source": [
    "file = open(\"Charades_v1_classes.txt\",\"r\")\n",
    "labels_signification = []\n",
    "s = file.readline()[5:-1]\n",
    "while s != \"\":\n",
    "    labels_signification.append(s)\n",
    "    s = file.readline()[5:-1]"
   ]
  },
  {
   "cell_type": "markdown",
   "metadata": {},
   "source": [
    "## Stage 1"
   ]
  },
  {
   "cell_type": "code",
   "execution_count": 426,
   "metadata": {},
   "outputs": [],
   "source": [
    "video_ids_s1 = np.loadtxt(\"experiments/charades/semi-crf/\"+video_name+\"/stage_1/vid_VIDEO_500000.csv\", delimiter=\",\")\n",
    "video_ids_s1 = video_ids_s1.astype(int)\n",
    "labels_s1 = np.loadtxt(\"experiments/charades/semi-crf/\"+video_name+\"/stage_1/labels_VIDEO_500000.csv\", delimiter=\",\")"
   ]
  },
  {
   "cell_type": "code",
   "execution_count": 427,
   "metadata": {},
   "outputs": [
    {
     "name": "stdout",
     "output_type": "stream",
     "text": [
      "num_frames = 383\n"
     ]
    }
   ],
   "source": [
    "num_frames = np.max(video_ids_s1[:,1])\n",
    "print(\"num_frames =\", num_frames)"
   ]
  },
  {
   "cell_type": "code",
   "execution_count": 428,
   "metadata": {},
   "outputs": [],
   "source": [
    "predictions_array_s1 = np.loadtxt(\"experiments/charades/semi-crf/\"+video_name+\"/stage_1/pred_VIDEO_500000.csv\", delimiter=\",\")"
   ]
  },
  {
   "cell_type": "markdown",
   "metadata": {},
   "source": [
    "## Stage 2"
   ]
  },
  {
   "cell_type": "code",
   "execution_count": 429,
   "metadata": {},
   "outputs": [],
   "source": [
    "video_ids_s2 = np.loadtxt(\"experiments/charades/semi-crf/\"+video_name+\"/vid_VIDEO_500000.csv\", delimiter=\",\")\n",
    "video_ids_s2 = video_ids_s2.astype(int)\n",
    "labels_s2 = np.loadtxt(\"experiments/charades/semi-crf/\"+video_name+\"/labels_VIDEO_500000.csv\", delimiter=\",\")"
   ]
  },
  {
   "cell_type": "code",
   "execution_count": 430,
   "metadata": {},
   "outputs": [
    {
     "data": {
      "text/plain": [
       "True"
      ]
     },
     "execution_count": 430,
     "metadata": {},
     "output_type": "execute_result"
    }
   ],
   "source": [
    "np.max(video_ids_s2[:,1]) == num_frames"
   ]
  },
  {
   "cell_type": "code",
   "execution_count": 431,
   "metadata": {},
   "outputs": [],
   "source": [
    "predictions_array_s2 = np.loadtxt(\"experiments/charades/semi-crf/\"+video_name+\"/pred_VIDEO_500000.csv\", delimiter=\",\")"
   ]
  },
  {
   "cell_type": "markdown",
   "metadata": {},
   "source": [
    "Mapping between 1st stage results and 2nd stage results:"
   ]
  },
  {
   "cell_type": "code",
   "execution_count": 432,
   "metadata": {},
   "outputs": [],
   "source": [
    "idxes = [np.where(video_ids_s2[:,1] == video_ids_s1[i,1])[0][0] for i in range(num_frames+1)]"
   ]
  },
  {
   "cell_type": "markdown",
   "metadata": {},
   "source": [
    "Reordering the 2nd stage results according to the 1st stage results'order:"
   ]
  },
  {
   "cell_type": "code",
   "execution_count": 433,
   "metadata": {},
   "outputs": [],
   "source": [
    "video_ids_s2 = video_ids_s2[idxes]\n",
    "predictions_array_s2 = predictions_array_s2[idxes]\n",
    "labels_s2 = labels_s2[idxes]"
   ]
  },
  {
   "cell_type": "markdown",
   "metadata": {},
   "source": [
    "## Comparing the different stages"
   ]
  },
  {
   "cell_type": "markdown",
   "metadata": {},
   "source": [
    "Check ordering:"
   ]
  },
  {
   "cell_type": "code",
   "execution_count": 434,
   "metadata": {},
   "outputs": [
    {
     "data": {
      "text/plain": [
       "True"
      ]
     },
     "execution_count": 434,
     "metadata": {},
     "output_type": "execute_result"
    }
   ],
   "source": [
    "np.sum(labels_s1 == labels_s2) == (num_frames+1)*157"
   ]
  },
  {
   "cell_type": "markdown",
   "metadata": {},
   "source": [
    "Random observation:"
   ]
  },
  {
   "cell_type": "code",
   "execution_count": 435,
   "metadata": {},
   "outputs": [
    {
     "name": "stdout",
     "output_type": "stream",
     "text": [
      "Ground truth:\n",
      "[ 0 71 81]\n",
      "Stage 1:\n",
      "[  0   1   8  97 148]\n",
      "Stage 2:\n",
      "[  0   1   2 148   4]\n",
      "\n",
      "Ground truth:\n",
      "['Holding some clothes', 'Putting a blanket somewhere', 'Putting something on a shelf']\n",
      "Stage 1:\n",
      "['Holding some clothes', 'Putting clothes somewhere', 'Opening a door', 'Walking through a doorway', 'Someone is dressing']\n",
      "Stage 2:\n",
      "['Holding some clothes', 'Putting clothes somewhere', 'Taking some clothes from somewhere', 'Someone is dressing', 'Tidying some clothes']\n"
     ]
    }
   ],
   "source": [
    "idx = 200\n",
    "top_k = 5\n",
    "\n",
    "\n",
    "print(\"Ground truth:\")\n",
    "print(np.where(labels_s1[idx]>0)[0])\n",
    "print(\"Stage 1:\")\n",
    "print(np.argsort(predictions_array_s1[idx])[::-1][:top_k])\n",
    "print(\"Stage 2:\")\n",
    "print(np.argsort(predictions_array_s2[idx])[::-1][:top_k])\n",
    "\n",
    "print(\"\\nGround truth:\")\n",
    "print([labels_signification[i] for i in np.where(labels_s1[idx]>0)[0]])\n",
    "print(\"Stage 1:\")\n",
    "print([labels_signification[i] for i in np.argsort(predictions_array_s1[idx])[::-1][:top_k]]) \n",
    "print(\"Stage 2:\")\n",
    "print([labels_signification[i] for i in np.argsort(predictions_array_s2[idx])[::-1][:top_k]]) "
   ]
  },
  {
   "cell_type": "markdown",
   "metadata": {},
   "source": [
    "Metrics:"
   ]
  },
  {
   "cell_type": "code",
   "execution_count": 436,
   "metadata": {},
   "outputs": [],
   "source": [
    "def ap(ground_truth, predictions, top_k=-1):\n",
    "    numpos = np.size(np.where(ground_truth > 0))\n",
    "    if numpos == 0:\n",
    "        return 0\n",
    "    delta_recall = 1.0 / numpos\n",
    "    sortidx = sorted(range(len(predictions)),\n",
    "                     key=lambda k: predictions[k],\n",
    "                     reverse=True)\n",
    "    n = len(sortidx)\n",
    "    if top_k>0:\n",
    "        n = top_k\n",
    "    poscount = 0\n",
    "    \n",
    "    \n",
    "    ap = 0\n",
    "    for i in range(n):\n",
    "        if ground_truth[sortidx[i]] > 0:\n",
    "            poscount += 1\n",
    "            ap += poscount / (i + 1) * delta_recall\n",
    "    return ap"
   ]
  },
  {
   "cell_type": "code",
   "execution_count": 437,
   "metadata": {},
   "outputs": [],
   "source": [
    "def gap(labels, predictions, top_k=-1):\n",
    "    \n",
    "    labels = labels.flatten()\n",
    "    predictions = predictions.flatten()\n",
    "    \n",
    "    return ap(labels, predictions, top_k)"
   ]
  },
  {
   "cell_type": "code",
   "execution_count": 438,
   "metadata": {},
   "outputs": [
    {
     "data": {
      "text/plain": [
       "0.13280943576898413"
      ]
     },
     "execution_count": 438,
     "metadata": {},
     "output_type": "execute_result"
    }
   ],
   "source": [
    "gap(labels_s1, predictions_array_s1)"
   ]
  },
  {
   "cell_type": "code",
   "execution_count": 439,
   "metadata": {},
   "outputs": [
    {
     "data": {
      "text/plain": [
       "0.19447524093337798"
      ]
     },
     "execution_count": 439,
     "metadata": {},
     "output_type": "execute_result"
    }
   ],
   "source": [
    "gap(labels_s2, predictions_array_s2)"
   ]
  },
  {
   "cell_type": "code",
   "execution_count": 440,
   "metadata": {},
   "outputs": [],
   "source": [
    "def map_calc(labels, predictions):\n",
    "    aps = [ap(labels[:,q],predictions[:,q]) for q in range(labels.shape[1])]\n",
    "    return np.mean(aps)"
   ]
  },
  {
   "cell_type": "code",
   "execution_count": 441,
   "metadata": {},
   "outputs": [
    {
     "data": {
      "text/plain": [
       "0.04738251752107976"
      ]
     },
     "execution_count": 441,
     "metadata": {},
     "output_type": "execute_result"
    }
   ],
   "source": [
    "map_calc(labels_s1, predictions_array_s1)"
   ]
  },
  {
   "cell_type": "code",
   "execution_count": 442,
   "metadata": {},
   "outputs": [
    {
     "data": {
      "text/plain": [
       "0.04229874021634391"
      ]
     },
     "execution_count": 442,
     "metadata": {},
     "output_type": "execute_result"
    }
   ],
   "source": [
    "map_calc(labels_s2, predictions_array_s2)"
   ]
  },
  {
   "cell_type": "markdown",
   "metadata": {},
   "source": [
    "Individual performances for both stages:"
   ]
  },
  {
   "cell_type": "code",
   "execution_count": 443,
   "metadata": {},
   "outputs": [],
   "source": [
    "perf_gap_1 = [gap(labels_s1[i], predictions_array_s1[i]) for i in range(len(labels_s1))]\n",
    "perf_gap_2 = [gap(labels_s2[i], predictions_array_s2[i]) for i in range(len(labels_s2))]"
   ]
  },
  {
   "cell_type": "markdown",
   "metadata": {},
   "source": [
    "Effect of the CRF on individual performances:"
   ]
  },
  {
   "cell_type": "code",
   "execution_count": 444,
   "metadata": {},
   "outputs": [],
   "source": [
    "diff_gap_2_1 = [perf_gap_2[i] - perf_gap_1[i] for i in range(num_frames)]"
   ]
  },
  {
   "cell_type": "code",
   "execution_count": 445,
   "metadata": {},
   "outputs": [
    {
     "data": {
      "text/plain": [
       "0.06378272812068034"
      ]
     },
     "execution_count": 445,
     "metadata": {},
     "output_type": "execute_result"
    }
   ],
   "source": [
    "mean(diff_gap_2_1)"
   ]
  },
  {
   "cell_type": "code",
   "execution_count": 446,
   "metadata": {},
   "outputs": [
    {
     "data": {
      "image/png": "[encoded data removed]",
      "text/plain": [
       "<matplotlib.figure.Figure at 0x7f2959786860>"
      ]
     },
     "metadata": {},
     "output_type": "display_data"
    }
   ],
   "source": [
    "plt.figure(figsize=(20,6))\n",
    "n, bins, patches = plt.hist(diff_gap_2_1, 100, normed=1, facecolor='green')"
   ]
  },
  {
   "cell_type": "code",
   "execution_count": 447,
   "metadata": {},
   "outputs": [],
   "source": [
    "idxes_sorted = np.argsort(diff_gap_2_1)"
   ]
  },
  {
   "cell_type": "code",
   "execution_count": 448,
   "metadata": {},
   "outputs": [
    {
     "name": "stdout",
     "output_type": "stream",
     "text": [
      "Video name:\n",
      "6TC5G\n",
      "Frame id:\n",
      "100\n",
      "% of video:\n",
      "1.3368146214099217\n",
      "\n",
      "GAP difference:\n",
      "0.3488608418185883\n",
      "\n",
      "Ground truth:\n",
      "[  0   2   4  74  81 114]\n",
      "Stage 1:\n",
      "[113   8 112 114 141]\n",
      "Stage 2:\n",
      "[  0   1   4 114   2]\n",
      "\n",
      "Ground truth(s):\n",
      "- Holding some clothes\n",
      "- Taking some clothes from somewhere\n",
      "- Tidying some clothes\n",
      "- Throwing a blanket somewhere\n",
      "- Putting something on a shelf\n",
      "- Tidying up a closet/cabinet\n",
      "\n",
      "No CRF:\n",
      "1.Opening a closet/cabinet - 0.29\n",
      "2.Opening a door - 0.23\n",
      "3.Closing a closet/cabinet - 0.16\n",
      "4.Tidying up a closet/cabinet - 0.15\n",
      "5.Grasping onto a doorknob - 0.14\n",
      "\n",
      "With CRF:\n",
      "1.Holding some clothes - 0.19\n",
      "2.Putting clothes somewhere - 0.18\n",
      "3.Tidying some clothes - 0.11\n",
      "4.Tidying up a closet/cabinet - 0.11\n",
      "5.Taking some clothes from somewhere - 0.11\n"
     ]
    }
   ],
   "source": [
    "idx = idxes_sorted[num_frames-1]\n",
    "top_k = 5\n",
    "\n",
    "print(\"Video name:\")\n",
    "print(video_name)\n",
    "print(\"Frame id:\")\n",
    "frame_id = video_ids_s1[idx][1]+1\n",
    "print(frame_id)\n",
    "\n",
    "print(\"% of video:\")\n",
    "print(vid_id/num_frames)\n",
    "\n",
    "print(\"\\nGAP difference:\")\n",
    "print(diff_gap_2_1[idx])\n",
    "\n",
    "print(\"\\nGround truth:\")\n",
    "print(np.where(labels_s1[idx]>0)[0])\n",
    "print(\"Stage 1:\")\n",
    "print(np.argsort(predictions_array_s1[idx])[::-1][:top_k])\n",
    "print(\"Stage 2:\")\n",
    "print(np.argsort(predictions_array_s2[idx])[::-1][:top_k])\n",
    "\n",
    "print(\"\\nGround truth(s):\")\n",
    "for i in np.where(labels_s1[idx]>0)[0]:\n",
    "    print(\"- \" + labels_signification[i])\n",
    "print(\"\\nNo CRF:\")\n",
    "c = 0\n",
    "for i in np.argsort(predictions_array_s1[idx])[::-1][:top_k]:\n",
    "    print(str(c+1) + \".\" + labels_signification[i] + \" - \" + str(np.round(np.sort(predictions_array_s1[idx])[::-1][c],2)))\n",
    "    c += 1\n",
    "\n",
    "print(\"\\nWith CRF:\")\n",
    "c = 0\n",
    "for i in np.argsort(predictions_array_s2[idx])[::-1][:top_k]:\n",
    "    print(str(c+1) + \".\" + labels_signification[i] + \" - \" + str(np.round(np.sort(predictions_array_s2[idx])[::-1][c],2)))\n",
    "    c += 1"
   ]
  },
  {
   "cell_type": "code",
   "execution_count": null,
   "metadata": {},
   "outputs": [],
   "source": []
  },
  {
   "cell_type": "code",
   "execution_count": null,
   "metadata": {},
   "outputs": [],
   "source": []
  },
  {
   "cell_type": "code",
   "execution_count": null,
   "metadata": {},
   "outputs": [],
   "source": []
  }
 ],
 "metadata": {
  "kernelspec": {
   "display_name": "Python 3",
   "language": "python",
   "name": "python3"
  },
  "language_info": {
   "codemirror_mode": {
    "name": "ipython",
    "version": 3
   },
   "file_extension": ".py",
   "mimetype": "text/x-python",
   "name": "python",
   "nbconvert_exporter": "python",
   "pygments_lexer": "ipython3",
   "version": "3.6.4"
  }
 },
 "nbformat": 4,
 "nbformat_minor": 2
}
